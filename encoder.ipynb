{
 "cells": [
  {
   "cell_type": "markdown",
   "id": "b4187015",
   "metadata": {},
   "source": [
    "# A Simple Model"
   ]
  },
  {
   "cell_type": "markdown",
   "id": "5848512d",
   "metadata": {},
   "source": [
    "## Data Transformation Pipeline 1: Create encoders"
   ]
  },
  {
   "cell_type": "code",
   "execution_count": 2,
   "id": "f9bc4693",
   "metadata": {},
   "outputs": [],
   "source": [
    "#papermill_description=Starting_Up\n",
    "import pandas as pd\n",
    "from joblib import dump, load\n",
    "from hamilton import driver, base"
   ]
  },
  {
   "cell_type": "code",
   "execution_count": 3,
   "id": "37e05be3",
   "metadata": {},
   "outputs": [],
   "source": [
    "import features_pipeline"
   ]
  },
  {
   "cell_type": "code",
   "execution_count": 4,
   "id": "886aa249",
   "metadata": {
    "tags": [
     "parameters"
    ]
   },
   "outputs": [],
   "source": [
    "# parameters\n",
    "train_data : str = \"data/train.csv\"\n",
    "test_data : str = \"data/test.csv\""
   ]
  },
  {
   "cell_type": "code",
   "execution_count": 5,
   "id": "41480ea5",
   "metadata": {},
   "outputs": [],
   "source": [
    "df_train = pd.read_csv(train_data)\n",
    "df_test = pd.read_csv(test_data)"
   ]
  },
  {
   "cell_type": "code",
   "execution_count": 6,
   "id": "3b08d0c6",
   "metadata": {},
   "outputs": [],
   "source": [
    "index_col = 'passengerid'\n",
    "target_col = \"survived\"\n",
    "cat_cols = [\"sex\", \"cabin\", \"embarked\"]\n",
    "config = {\n",
    "    'index_column': index_col,\n",
    "    'target_column': target_col,\n",
    "    'categorical_columns': cat_cols\n",
    "}"
   ]
  },
  {
   "cell_type": "code",
   "execution_count": 7,
   "id": "f26a11ae",
   "metadata": {},
   "outputs": [],
   "source": [
    "#papermill_description=Visualizing\n",
    "adapter = base.SimplePythonGraphAdapter(base.DictResult())\n",
    "encode_dr = driver.Driver(config, features_pipeline, adapter=adapter)\n",
    "output_nodes = ['encoders']\n",
    "encode_dr.visualize_execution(output_nodes,'./artifacts/encoder.dot', {}, \n",
    "    inputs = dict(\n",
    "        df_train = df_train,\n",
    "        df_test = df_test\n",
    "    )                           \n",
    ")"
   ]
  },
  {
   "cell_type": "markdown",
   "id": "7fcb981f",
   "metadata": {},
   "source": [
    "![](./encoder.dot.pdf)"
   ]
  },
  {
   "cell_type": "code",
   "execution_count": 8,
   "id": "92362bc1",
   "metadata": {},
   "outputs": [
    {
     "name": "stdout",
     "output_type": "stream",
     "text": [
      "Index(['sex', 'cabin', 'embarked'], dtype='object')\n"
     ]
    },
    {
     "data": {
      "text/plain": [
       "{'encoders': {'cabin_encoder': LabelEncoder(),\n",
       "  'sex_encoder': LabelEncoder(),\n",
       "  'embarked_encoder': LabelEncoder()}}"
      ]
     },
     "execution_count": 8,
     "metadata": {},
     "output_type": "execute_result"
    }
   ],
   "source": [
    "#papermill_description=Running_Pipeline\n",
    "out = encode_dr.execute(['encoders'],\n",
    "        inputs = dict(\n",
    "            df_train = df_train,\n",
    "            df_test = df_test\n",
    "        )         \n",
    ")\n",
    "out"
   ]
  },
  {
   "cell_type": "code",
   "execution_count": 9,
   "id": "d2998311",
   "metadata": {},
   "outputs": [
    {
     "data": {
      "text/plain": [
       "array(['female', 'male'], dtype=object)"
      ]
     },
     "execution_count": 9,
     "metadata": {},
     "output_type": "execute_result"
    }
   ],
   "source": [
    "out['encoders']['sex_encoder'].classes_"
   ]
  },
  {
   "cell_type": "code",
   "execution_count": 11,
   "id": "e57dd73e",
   "metadata": {},
   "outputs": [
    {
     "data": {
      "text/plain": [
       "['intermediate_data/encoder.joblib']"
      ]
     },
     "execution_count": 11,
     "metadata": {},
     "output_type": "execute_result"
    }
   ],
   "source": [
    "dump(out, \"intermediate_data/encoder.joblib\")"
   ]
  }
 ],
 "metadata": {
  "kernelspec": {
   "display_name": "ml1-arm64",
   "language": "python",
   "name": "ml1-arm64"
  },
  "language_info": {
   "codemirror_mode": {
    "name": "ipython",
    "version": 3
   },
   "file_extension": ".py",
   "mimetype": "text/x-python",
   "name": "python",
   "nbconvert_exporter": "python",
   "pygments_lexer": "ipython3",
   "version": "3.9.13"
  },
  "vscode": {
   "interpreter": {
    "hash": "3ad933181bd8a04b432d3370b9dc3b0662ad032c4dfaa4e4f1596c548f763858"
   }
  }
 },
 "nbformat": 4,
 "nbformat_minor": 5
}
