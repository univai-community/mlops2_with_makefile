{
 "cells": [
  {
   "cell_type": "markdown",
   "id": "d0120cbd",
   "metadata": {},
   "source": [
    "# A Simple Model"
   ]
  },
  {
   "cell_type": "code",
   "execution_count": 2,
   "id": "21f5d1c3",
   "metadata": {},
   "outputs": [],
   "source": [
    "import pandas as pd\n",
    "from joblib import dump, load\n",
    "from hamilton import driver, base"
   ]
  },
  {
   "cell_type": "code",
   "execution_count": 3,
   "id": "52f4391c",
   "metadata": {
    "tags": [
     "parameters"
    ]
   },
   "outputs": [],
   "source": [
    "# parameters\n",
    "model_file: str = \"models/rf.joblib\"\n",
    "infer_type: str = \"test\"\n",
    "encoder_file: str = \"intermediate_data/encoder.joblib\"\n",
    "data: str = \"data/test.csv\""
   ]
  },
  {
   "cell_type": "code",
   "execution_count": 4,
   "id": "59a0e097",
   "metadata": {},
   "outputs": [],
   "source": [
    "index_col = 'passengerid'\n",
    "target_col = \"survived\"\n",
    "config_model = {\n",
    "    'index_column': index_col,\n",
    "    'target_column': target_col,\n",
    "    'random_state': 42,\n",
    "    'max_depth': None,\n",
    "    'validation_size_fraction': 0.33,\n",
    "    't': 0.5\n",
    "}"
   ]
  },
  {
   "cell_type": "code",
   "execution_count": 5,
   "id": "1d4215a6",
   "metadata": {},
   "outputs": [],
   "source": [
    "import features_pipeline, model_pipeline"
   ]
  },
  {
   "cell_type": "code",
   "execution_count": 6,
   "id": "73a252db",
   "metadata": {},
   "outputs": [],
   "source": [
    "fit_clf = load(model_file)"
   ]
  },
  {
   "cell_type": "code",
   "execution_count": 10,
   "id": "1da2b197",
   "metadata": {},
   "outputs": [],
   "source": [
    "df = pd.read_csv(data)"
   ]
  },
  {
   "cell_type": "code",
   "execution_count": 8,
   "id": "8c8fd6cb",
   "metadata": {},
   "outputs": [],
   "source": [
    "out = load(encoder_file)"
   ]
  },
  {
   "cell_type": "code",
   "execution_count": 9,
   "id": "2f8b3893",
   "metadata": {},
   "outputs": [],
   "source": [
    "inputencoders = {}\n",
    "for k in out['encoders']:\n",
    "    knew = \"\".join(k.split('_'))\n",
    "    inputencoders[knew] = out['encoders'][k]"
   ]
  },
  {
   "cell_type": "markdown",
   "id": "36aedf54",
   "metadata": {},
   "source": [
    "## Inference 2: Inference from the very beginning of the data"
   ]
  },
  {
   "cell_type": "code",
   "execution_count": 11,
   "id": "7ce5926a",
   "metadata": {},
   "outputs": [],
   "source": [
    "config_infer2 = {\n",
    "    'index_column': index_col,\n",
    "    'target_column': target_col,\n",
    "    't': 0.5\n",
    "}\n"
   ]
  },
  {
   "cell_type": "code",
   "execution_count": 13,
   "id": "68bf52b1",
   "metadata": {},
   "outputs": [],
   "source": [
    "infer2_adapter = base.SimplePythonGraphAdapter(base.DictResult())\n",
    "infer2_dr = driver.Driver(config_infer2, \n",
    "                            features_pipeline, model_pipeline,\n",
    "                            adapter = infer2_adapter)\n",
    "dinfer2 = dict(\n",
    "    df = df,\n",
    "    clf = fit_clf,\n",
    "    **inputencoders\n",
    ")\n",
    "\n",
    "infer2_dr.visualize_execution(['chain_predictions'],\n",
    "                                       f\"./artifacts/infer2_{infer_type}.dot\", \n",
    "                                       {}, \n",
    "                                       inputs = dinfer2\n",
    ")"
   ]
  },
  {
   "cell_type": "code",
   "execution_count": 14,
   "id": "c3ed30e2",
   "metadata": {},
   "outputs": [],
   "source": [
    "from IPython.display import Image, Markdown"
   ]
  },
  {
   "cell_type": "code",
   "execution_count": 15,
   "id": "227dce26",
   "metadata": {},
   "outputs": [
    {
     "data": {
      "text/markdown": [
       "![](./infer2_test.dot.pdf)"
      ],
      "text/plain": [
       "<IPython.core.display.Markdown object>"
      ]
     },
     "execution_count": 15,
     "metadata": {},
     "output_type": "execute_result"
    }
   ],
   "source": [
    "Markdown(f\"![](./infer2_{infer_type}.dot.pdf)\")"
   ]
  },
  {
   "cell_type": "code",
   "execution_count": 16,
   "id": "b4add13b",
   "metadata": {},
   "outputs": [
    {
     "name": "stdout",
     "output_type": "stream",
     "text": [
      "<class 'pandas.core.frame.DataFrame'>\n"
     ]
    }
   ],
   "source": [
    "infer2dict = infer2_dr.execute(['chain_predictions'],inputs = dinfer2)"
   ]
  },
  {
   "cell_type": "code",
   "execution_count": 17,
   "id": "8506bb3c",
   "metadata": {},
   "outputs": [
    {
     "data": {
      "text/plain": [
       "(array([0.  , 0.53, 0.79, ..., 0.07, 0.92, 0.68]),\n",
       " array([0, 1, 1, ..., 0, 1, 1]))"
      ]
     },
     "execution_count": 17,
     "metadata": {},
     "output_type": "execute_result"
    }
   ],
   "source": [
    "infer2dict['chain_predictions']"
   ]
  },
  {
   "cell_type": "code",
   "execution_count": 19,
   "id": "40530ddd",
   "metadata": {},
   "outputs": [
    {
     "data": {
      "text/plain": [
       "['results/infer2_test.joblib']"
      ]
     },
     "execution_count": 19,
     "metadata": {},
     "output_type": "execute_result"
    }
   ],
   "source": [
    "dump(infer2dict, f\"results/infer2_{infer_type}.joblib\")"
   ]
  }
 ],
 "metadata": {
  "kernelspec": {
   "display_name": "ml1-arm64",
   "language": "python",
   "name": "ml1-arm64"
  },
  "language_info": {
   "codemirror_mode": {
    "name": "ipython",
    "version": 3
   },
   "file_extension": ".py",
   "mimetype": "text/x-python",
   "name": "python",
   "nbconvert_exporter": "python",
   "pygments_lexer": "ipython3",
   "version": "3.9.13"
  },
  "vscode": {
   "interpreter": {
    "hash": "3ad933181bd8a04b432d3370b9dc3b0662ad032c4dfaa4e4f1596c548f763858"
   }
  }
 },
 "nbformat": 4,
 "nbformat_minor": 5
}
