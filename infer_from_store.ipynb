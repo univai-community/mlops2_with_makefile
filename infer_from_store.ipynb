{
 "cells": [
  {
   "cell_type": "markdown",
   "id": "f2a52dc8",
   "metadata": {},
   "source": [
    "# A Simple Model"
   ]
  },
  {
   "cell_type": "code",
   "execution_count": 1,
   "id": "b571a6f3",
   "metadata": {},
   "outputs": [],
   "source": [
    "import pandas as pd\n",
    "from joblib import dump, load\n",
    "from hamilton import driver, base"
   ]
  },
  {
   "cell_type": "code",
   "execution_count": 7,
   "id": "a3988cae",
   "metadata": {
    "tags": [
     "parameters"
    ]
   },
   "outputs": [],
   "source": [
    "# parameters\n",
    "model_file: str = \"models/rf.joblib\"\n",
    "features_file: str = \"intermediate_data/featurestore_test.pkl\"\n",
    "infer_type: str = \"test\""
   ]
  },
  {
   "cell_type": "code",
   "execution_count": 10,
   "id": "88f76dfe",
   "metadata": {},
   "outputs": [],
   "source": [
    "index_col = 'passengerid'\n",
    "target_col = \"survived\"\n",
    "config_model = {\n",
    "    'index_column': index_col,\n",
    "    'target_column': target_col,\n",
    "    'random_state': 42,\n",
    "    'max_depth': None,\n",
    "    'validation_size_fraction': 0.33,\n",
    "    't': 0.5\n",
    "}"
   ]
  },
  {
   "cell_type": "code",
   "execution_count": 3,
   "id": "59b01ec4",
   "metadata": {},
   "outputs": [],
   "source": [
    "import model_pipeline"
   ]
  },
  {
   "cell_type": "code",
   "execution_count": 4,
   "id": "948bdb29",
   "metadata": {},
   "outputs": [],
   "source": [
    "infer1_df = pd.read_pickle(features_file)"
   ]
  },
  {
   "cell_type": "code",
   "execution_count": 6,
   "id": "9950d6ec",
   "metadata": {},
   "outputs": [],
   "source": [
    "fit_clf = load(model_file)"
   ]
  },
  {
   "cell_type": "markdown",
   "id": "2655378f",
   "metadata": {},
   "source": [
    "## Inference pipeline 1: Inference from an already transformed data, or if you like, from a feature store"
   ]
  },
  {
   "cell_type": "code",
   "execution_count": 11,
   "id": "31ea542e",
   "metadata": {},
   "outputs": [],
   "source": [
    "infer1_adapter = base.SimplePythonGraphAdapter(base.DictResult())\n",
    "infer1_dr = driver.Driver(config_model, \n",
    "                            model_pipeline,\n",
    "                            adapter = infer1_adapter)\n",
    "dinfer1 = dict(\n",
    "    X = infer1_df,\n",
    "    clf = fit_clf\n",
    ")\n",
    "\n",
    "infer1_dr.visualize_execution(['predictions'],\n",
    "                                       f\"./artifacts/infer1_{infer_type}.dot\", \n",
    "                                       {}, \n",
    "                                       inputs = dinfer1\n",
    ")"
   ]
  },
  {
   "cell_type": "code",
   "execution_count": 12,
   "id": "ac77717b",
   "metadata": {},
   "outputs": [],
   "source": [
    "from IPython.display import Image, Markdown"
   ]
  },
  {
   "cell_type": "code",
   "execution_count": 13,
   "id": "76646e8b",
   "metadata": {},
   "outputs": [
    {
     "data": {
      "text/markdown": [
       "![](./infer1_test.dot.pdf)"
      ],
      "text/plain": [
       "<IPython.core.display.Markdown object>"
      ]
     },
     "execution_count": 13,
     "metadata": {},
     "output_type": "execute_result"
    }
   ],
   "source": [
    "Markdown(f\"![](./infer1_{infer_type}.dot.pdf)\")"
   ]
  },
  {
   "cell_type": "code",
   "execution_count": 14,
   "id": "2c193919",
   "metadata": {},
   "outputs": [],
   "source": [
    "infer1dict = infer1_dr.execute(['predictions'],inputs = dinfer1)"
   ]
  },
  {
   "cell_type": "code",
   "execution_count": 15,
   "id": "fb31de22",
   "metadata": {},
   "outputs": [
    {
     "data": {
      "text/plain": [
       "{'predictions': (array([0.  , 0.53, 0.79, ..., 0.07, 0.92, 0.68]),\n",
       "  array([0, 1, 1, ..., 0, 1, 1]))}"
      ]
     },
     "execution_count": 15,
     "metadata": {},
     "output_type": "execute_result"
    }
   ],
   "source": [
    "infer1dict"
   ]
  },
  {
   "cell_type": "code",
   "execution_count": 16,
   "id": "2da11946",
   "metadata": {},
   "outputs": [
    {
     "data": {
      "text/plain": [
       "['results/infer1_test.joblib']"
      ]
     },
     "execution_count": 16,
     "metadata": {},
     "output_type": "execute_result"
    }
   ],
   "source": [
    "dump(infer1dict, f\"results/infer1_{infer_type}.joblib\")"
   ]
  }
 ],
 "metadata": {
  "kernelspec": {
   "display_name": "ml1-arm64",
   "language": "python",
   "name": "ml1-arm64"
  },
  "language_info": {
   "codemirror_mode": {
    "name": "ipython",
    "version": 3
   },
   "file_extension": ".py",
   "mimetype": "text/x-python",
   "name": "python",
   "nbconvert_exporter": "python",
   "pygments_lexer": "ipython3",
   "version": "3.9.13"
  },
  "vscode": {
   "interpreter": {
    "hash": "3ad933181bd8a04b432d3370b9dc3b0662ad032c4dfaa4e4f1596c548f763858"
   }
  }
 },
 "nbformat": 4,
 "nbformat_minor": 5
}
