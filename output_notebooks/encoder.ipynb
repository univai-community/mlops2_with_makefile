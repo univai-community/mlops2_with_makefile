{
 "cells": [
  {
   "cell_type": "markdown",
   "id": "b4187015",
   "metadata": {
    "papermill": {
     "duration": 0.008558,
     "end_time": "2022-12-16T18:37:06.501548",
     "exception": false,
     "start_time": "2022-12-16T18:37:06.492990",
     "status": "completed"
    },
    "tags": []
   },
   "source": [
    "# A Simple Model"
   ]
  },
  {
   "cell_type": "markdown",
   "id": "5848512d",
   "metadata": {
    "papermill": {
     "duration": 0.003332,
     "end_time": "2022-12-16T18:37:06.508638",
     "exception": false,
     "start_time": "2022-12-16T18:37:06.505306",
     "status": "completed"
    },
    "tags": []
   },
   "source": [
    "## Data Transformation Pipeline 1: Create encoders"
   ]
  },
  {
   "cell_type": "code",
   "execution_count": 1,
   "id": "f9bc4693",
   "metadata": {
    "execution": {
     "iopub.execute_input": "2022-12-16T18:37:06.517494Z",
     "iopub.status.busy": "2022-12-16T18:37:06.517170Z",
     "iopub.status.idle": "2022-12-16T18:37:06.689998Z",
     "shell.execute_reply": "2022-12-16T18:37:06.689597Z"
    },
    "papermill": {
     "duration": 0.179595,
     "end_time": "2022-12-16T18:37:06.691468",
     "exception": false,
     "start_time": "2022-12-16T18:37:06.511873",
     "status": "completed"
    },
    "tags": []
   },
   "outputs": [],
   "source": [
    "#papermill_description=Starting_Up\n",
    "import pandas as pd\n",
    "from joblib import dump, load\n",
    "from hamilton import driver, base"
   ]
  },
  {
   "cell_type": "code",
   "execution_count": 2,
   "id": "37e05be3",
   "metadata": {
    "execution": {
     "iopub.execute_input": "2022-12-16T18:37:06.694369Z",
     "iopub.status.busy": "2022-12-16T18:37:06.694217Z",
     "iopub.status.idle": "2022-12-16T18:37:06.883781Z",
     "shell.execute_reply": "2022-12-16T18:37:06.883496Z"
    },
    "papermill": {
     "duration": 0.192159,
     "end_time": "2022-12-16T18:37:06.884893",
     "exception": false,
     "start_time": "2022-12-16T18:37:06.692734",
     "status": "completed"
    },
    "tags": []
   },
   "outputs": [],
   "source": [
    "import features_pipeline"
   ]
  },
  {
   "cell_type": "code",
   "execution_count": 3,
   "id": "886aa249",
   "metadata": {
    "execution": {
     "iopub.execute_input": "2022-12-16T18:37:06.887898Z",
     "iopub.status.busy": "2022-12-16T18:37:06.887791Z",
     "iopub.status.idle": "2022-12-16T18:37:06.889438Z",
     "shell.execute_reply": "2022-12-16T18:37:06.889186Z"
    },
    "papermill": {
     "duration": 0.00406,
     "end_time": "2022-12-16T18:37:06.890357",
     "exception": false,
     "start_time": "2022-12-16T18:37:06.886297",
     "status": "completed"
    },
    "tags": [
     "parameters"
    ]
   },
   "outputs": [],
   "source": [
    "# parameters\n",
    "train_data : str = \"data/train.csv\"\n",
    "test_data : str = \"data/test.csv\""
   ]
  },
  {
   "cell_type": "code",
   "execution_count": 4,
   "id": "41480ea5",
   "metadata": {
    "execution": {
     "iopub.execute_input": "2022-12-16T18:37:06.892769Z",
     "iopub.status.busy": "2022-12-16T18:37:06.892677Z",
     "iopub.status.idle": "2022-12-16T18:37:07.048198Z",
     "shell.execute_reply": "2022-12-16T18:37:07.047879Z"
    },
    "papermill": {
     "duration": 0.157981,
     "end_time": "2022-12-16T18:37:07.049328",
     "exception": false,
     "start_time": "2022-12-16T18:37:06.891347",
     "status": "completed"
    },
    "tags": []
   },
   "outputs": [],
   "source": [
    "df_train = pd.read_csv(train_data)\n",
    "df_test = pd.read_csv(test_data)"
   ]
  },
  {
   "cell_type": "code",
   "execution_count": 5,
   "id": "3b08d0c6",
   "metadata": {
    "execution": {
     "iopub.execute_input": "2022-12-16T18:37:07.053934Z",
     "iopub.status.busy": "2022-12-16T18:37:07.053797Z",
     "iopub.status.idle": "2022-12-16T18:37:07.055853Z",
     "shell.execute_reply": "2022-12-16T18:37:07.055462Z"
    },
    "papermill": {
     "duration": 0.006228,
     "end_time": "2022-12-16T18:37:07.056899",
     "exception": false,
     "start_time": "2022-12-16T18:37:07.050671",
     "status": "completed"
    },
    "tags": []
   },
   "outputs": [],
   "source": [
    "index_col = 'passengerid'\n",
    "target_col = \"survived\"\n",
    "cat_cols = [\"sex\", \"cabin\", \"embarked\"]\n",
    "config = {\n",
    "    'index_column': index_col,\n",
    "    'target_column': target_col,\n",
    "    'categorical_columns': cat_cols\n",
    "}"
   ]
  },
  {
   "cell_type": "code",
   "execution_count": 6,
   "id": "f26a11ae",
   "metadata": {
    "execution": {
     "iopub.execute_input": "2022-12-16T18:37:07.061131Z",
     "iopub.status.busy": "2022-12-16T18:37:07.060974Z",
     "iopub.status.idle": "2022-12-16T18:37:07.481952Z",
     "shell.execute_reply": "2022-12-16T18:37:07.481499Z"
    },
    "papermill": {
     "duration": 0.424226,
     "end_time": "2022-12-16T18:37:07.483100",
     "exception": false,
     "start_time": "2022-12-16T18:37:07.058874",
     "status": "completed"
    },
    "tags": []
   },
   "outputs": [],
   "source": [
    "#papermill_description=Visualizing\n",
    "adapter = base.SimplePythonGraphAdapter(base.DictResult())\n",
    "encode_dr = driver.Driver(config, features_pipeline, adapter=adapter)\n",
    "output_nodes = ['encoders']\n",
    "encode_dr.visualize_execution(output_nodes,'./artifacts/encoder.dot', {}, \n",
    "    inputs = dict(\n",
    "        df_train = df_train,\n",
    "        df_test = df_test\n",
    "    )                           \n",
    ")"
   ]
  },
  {
   "cell_type": "markdown",
   "id": "7fcb981f",
   "metadata": {
    "papermill": {
     "duration": 0.001134,
     "end_time": "2022-12-16T18:37:07.485559",
     "exception": false,
     "start_time": "2022-12-16T18:37:07.484425",
     "status": "completed"
    },
    "tags": []
   },
   "source": [
    "![](./encoder.dot.pdf)"
   ]
  },
  {
   "cell_type": "code",
   "execution_count": 7,
   "id": "92362bc1",
   "metadata": {
    "execution": {
     "iopub.execute_input": "2022-12-16T18:37:07.488756Z",
     "iopub.status.busy": "2022-12-16T18:37:07.488616Z",
     "iopub.status.idle": "2022-12-16T18:37:07.567731Z",
     "shell.execute_reply": "2022-12-16T18:37:07.567390Z"
    },
    "papermill": {
     "duration": 0.081955,
     "end_time": "2022-12-16T18:37:07.568805",
     "exception": false,
     "start_time": "2022-12-16T18:37:07.486850",
     "status": "completed"
    },
    "tags": []
   },
   "outputs": [
    {
     "name": "stdout",
     "output_type": "stream",
     "text": [
      "Index(['sex', 'cabin', 'embarked'], dtype='object')\n"
     ]
    },
    {
     "data": {
      "text/plain": [
       "{'encoders': {'cabin_encoder': LabelEncoder(),\n",
       "  'sex_encoder': LabelEncoder(),\n",
       "  'embarked_encoder': LabelEncoder()}}"
      ]
     },
     "execution_count": 7,
     "metadata": {},
     "output_type": "execute_result"
    }
   ],
   "source": [
    "#papermill_description=Running_Pipeline\n",
    "out = encode_dr.execute(['encoders'],\n",
    "        inputs = dict(\n",
    "            df_train = df_train,\n",
    "            df_test = df_test\n",
    "        )         \n",
    ")\n",
    "out"
   ]
  },
  {
   "cell_type": "code",
   "execution_count": 8,
   "id": "d2998311",
   "metadata": {
    "execution": {
     "iopub.execute_input": "2022-12-16T18:37:07.573257Z",
     "iopub.status.busy": "2022-12-16T18:37:07.573094Z",
     "iopub.status.idle": "2022-12-16T18:37:07.577505Z",
     "shell.execute_reply": "2022-12-16T18:37:07.576955Z"
    },
    "papermill": {
     "duration": 0.008603,
     "end_time": "2022-12-16T18:37:07.578657",
     "exception": false,
     "start_time": "2022-12-16T18:37:07.570054",
     "status": "completed"
    },
    "tags": []
   },
   "outputs": [
    {
     "data": {
      "text/plain": [
       "array(['female', 'male'], dtype=object)"
      ]
     },
     "execution_count": 8,
     "metadata": {},
     "output_type": "execute_result"
    }
   ],
   "source": [
    "out['encoders']['sex_encoder'].classes_"
   ]
  },
  {
   "cell_type": "code",
   "execution_count": 9,
   "id": "e57dd73e",
   "metadata": {
    "execution": {
     "iopub.execute_input": "2022-12-16T18:37:07.582272Z",
     "iopub.status.busy": "2022-12-16T18:37:07.582140Z",
     "iopub.status.idle": "2022-12-16T18:37:07.585088Z",
     "shell.execute_reply": "2022-12-16T18:37:07.584788Z"
    },
    "papermill": {
     "duration": 0.005855,
     "end_time": "2022-12-16T18:37:07.586060",
     "exception": false,
     "start_time": "2022-12-16T18:37:07.580205",
     "status": "completed"
    },
    "tags": []
   },
   "outputs": [
    {
     "data": {
      "text/plain": [
       "['intermediate_data/encoder.joblib']"
      ]
     },
     "execution_count": 9,
     "metadata": {},
     "output_type": "execute_result"
    }
   ],
   "source": [
    "dump(out, \"intermediate_data/encoder.joblib\")"
   ]
  }
 ],
 "metadata": {
  "kernelspec": {
   "display_name": "ml1-arm64",
   "language": "python",
   "name": "ml1-arm64"
  },
  "language_info": {
   "codemirror_mode": {
    "name": "ipython",
    "version": 3
   },
   "file_extension": ".py",
   "mimetype": "text/x-python",
   "name": "python",
   "nbconvert_exporter": "python",
   "pygments_lexer": "ipython3",
   "version": "3.9.13"
  },
  "papermill": {
   "default_parameters": {},
   "duration": 2.269742,
   "end_time": "2022-12-16T18:37:07.913378",
   "environment_variables": {},
   "exception": null,
   "input_path": "encoder.ipynb",
   "output_path": "output_notebooks/encoder.ipynb",
   "parameters": {},
   "start_time": "2022-12-16T18:37:05.643636",
   "version": "2.4.0"
  },
  "vscode": {
   "interpreter": {
    "hash": "3ad933181bd8a04b432d3370b9dc3b0662ad032c4dfaa4e4f1596c548f763858"
   }
  }
 },
 "nbformat": 4,
 "nbformat_minor": 5
}