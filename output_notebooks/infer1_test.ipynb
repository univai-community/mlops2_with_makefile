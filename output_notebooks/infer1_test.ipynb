{
 "cells": [
  {
   "cell_type": "markdown",
   "id": "f2a52dc8",
   "metadata": {
    "papermill": {
     "duration": 0.011477,
     "end_time": "2022-12-16T18:31:44.478304",
     "exception": false,
     "start_time": "2022-12-16T18:31:44.466827",
     "status": "completed"
    },
    "tags": []
   },
   "source": [
    "# A Simple Model"
   ]
  },
  {
   "cell_type": "code",
   "execution_count": 1,
   "id": "b571a6f3",
   "metadata": {
    "execution": {
     "iopub.execute_input": "2022-12-16T18:31:44.493618Z",
     "iopub.status.busy": "2022-12-16T18:31:44.493002Z",
     "iopub.status.idle": "2022-12-16T18:31:44.681858Z",
     "shell.execute_reply": "2022-12-16T18:31:44.681479Z"
    },
    "papermill": {
     "duration": 0.198481,
     "end_time": "2022-12-16T18:31:44.683299",
     "exception": false,
     "start_time": "2022-12-16T18:31:44.484818",
     "status": "completed"
    },
    "tags": []
   },
   "outputs": [],
   "source": [
    "import pandas as pd\n",
    "from joblib import dump, load\n",
    "from hamilton import driver, base"
   ]
  },
  {
   "cell_type": "code",
   "execution_count": 2,
   "id": "a3988cae",
   "metadata": {
    "execution": {
     "iopub.execute_input": "2022-12-16T18:31:44.686669Z",
     "iopub.status.busy": "2022-12-16T18:31:44.686513Z",
     "iopub.status.idle": "2022-12-16T18:31:44.688530Z",
     "shell.execute_reply": "2022-12-16T18:31:44.688204Z"
    },
    "papermill": {
     "duration": 0.004718,
     "end_time": "2022-12-16T18:31:44.689586",
     "exception": false,
     "start_time": "2022-12-16T18:31:44.684868",
     "status": "completed"
    },
    "tags": [
     "parameters"
    ]
   },
   "outputs": [],
   "source": [
    "# parameters\n",
    "model_file: str = \"models/rf.joblib\"\n",
    "features_file: str = \"intermediate_data/featurestore_test.pkl\"\n",
    "infer_type: str = \"test\""
   ]
  },
  {
   "cell_type": "code",
   "execution_count": 3,
   "id": "b0549efb",
   "metadata": {
    "execution": {
     "iopub.execute_input": "2022-12-16T18:31:44.692544Z",
     "iopub.status.busy": "2022-12-16T18:31:44.692423Z",
     "iopub.status.idle": "2022-12-16T18:31:44.694084Z",
     "shell.execute_reply": "2022-12-16T18:31:44.693791Z"
    },
    "papermill": {
     "duration": 0.004301,
     "end_time": "2022-12-16T18:31:44.695151",
     "exception": false,
     "start_time": "2022-12-16T18:31:44.690850",
     "status": "completed"
    },
    "tags": [
     "injected-parameters"
    ]
   },
   "outputs": [],
   "source": [
    "# Parameters\n",
    "model_file = \"models/rf.joblib\"\n",
    "features_file = \"intermediate_data/featurestore_test.pkl\"\n",
    "infer_type = \"test\"\n"
   ]
  },
  {
   "cell_type": "code",
   "execution_count": 4,
   "id": "88f76dfe",
   "metadata": {
    "execution": {
     "iopub.execute_input": "2022-12-16T18:31:44.698233Z",
     "iopub.status.busy": "2022-12-16T18:31:44.698115Z",
     "iopub.status.idle": "2022-12-16T18:31:44.700137Z",
     "shell.execute_reply": "2022-12-16T18:31:44.699832Z"
    },
    "papermill": {
     "duration": 0.00475,
     "end_time": "2022-12-16T18:31:44.701222",
     "exception": false,
     "start_time": "2022-12-16T18:31:44.696472",
     "status": "completed"
    },
    "tags": []
   },
   "outputs": [],
   "source": [
    "index_col = 'passengerid'\n",
    "target_col = \"survived\"\n",
    "config_model = {\n",
    "    'index_column': index_col,\n",
    "    'target_column': target_col,\n",
    "    'random_state': 42,\n",
    "    'max_depth': None,\n",
    "    'validation_size_fraction': 0.33,\n",
    "    't': 0.5\n",
    "}"
   ]
  },
  {
   "cell_type": "code",
   "execution_count": 5,
   "id": "59b01ec4",
   "metadata": {
    "execution": {
     "iopub.execute_input": "2022-12-16T18:31:44.704161Z",
     "iopub.status.busy": "2022-12-16T18:31:44.704057Z",
     "iopub.status.idle": "2022-12-16T18:31:44.926358Z",
     "shell.execute_reply": "2022-12-16T18:31:44.926046Z"
    },
    "papermill": {
     "duration": 0.225009,
     "end_time": "2022-12-16T18:31:44.927475",
     "exception": false,
     "start_time": "2022-12-16T18:31:44.702466",
     "status": "completed"
    },
    "tags": []
   },
   "outputs": [],
   "source": [
    "import model_pipeline"
   ]
  },
  {
   "cell_type": "code",
   "execution_count": 6,
   "id": "948bdb29",
   "metadata": {
    "execution": {
     "iopub.execute_input": "2022-12-16T18:31:44.930773Z",
     "iopub.status.busy": "2022-12-16T18:31:44.930666Z",
     "iopub.status.idle": "2022-12-16T18:31:44.936215Z",
     "shell.execute_reply": "2022-12-16T18:31:44.935913Z"
    },
    "papermill": {
     "duration": 0.008313,
     "end_time": "2022-12-16T18:31:44.937164",
     "exception": false,
     "start_time": "2022-12-16T18:31:44.928851",
     "status": "completed"
    },
    "tags": []
   },
   "outputs": [],
   "source": [
    "infer1_df = pd.read_pickle(features_file)"
   ]
  },
  {
   "cell_type": "code",
   "execution_count": 7,
   "id": "9950d6ec",
   "metadata": {
    "execution": {
     "iopub.execute_input": "2022-12-16T18:31:44.940187Z",
     "iopub.status.busy": "2022-12-16T18:31:44.940094Z",
     "iopub.status.idle": "2022-12-16T18:31:45.102123Z",
     "shell.execute_reply": "2022-12-16T18:31:45.101756Z"
    },
    "papermill": {
     "duration": 0.164841,
     "end_time": "2022-12-16T18:31:45.103332",
     "exception": false,
     "start_time": "2022-12-16T18:31:44.938491",
     "status": "completed"
    },
    "tags": []
   },
   "outputs": [],
   "source": [
    "fit_clf = load(model_file)"
   ]
  },
  {
   "cell_type": "markdown",
   "id": "2655378f",
   "metadata": {
    "papermill": {
     "duration": 0.001425,
     "end_time": "2022-12-16T18:31:45.106267",
     "exception": false,
     "start_time": "2022-12-16T18:31:45.104842",
     "status": "completed"
    },
    "tags": []
   },
   "source": [
    "## Inference pipeline 1: Inference from an already transformed data, or if you like, from a feature store"
   ]
  },
  {
   "cell_type": "code",
   "execution_count": 8,
   "id": "31ea542e",
   "metadata": {
    "execution": {
     "iopub.execute_input": "2022-12-16T18:31:45.109171Z",
     "iopub.status.busy": "2022-12-16T18:31:45.109046Z",
     "iopub.status.idle": "2022-12-16T18:31:45.471215Z",
     "shell.execute_reply": "2022-12-16T18:31:45.470742Z"
    },
    "papermill": {
     "duration": 0.36492,
     "end_time": "2022-12-16T18:31:45.472336",
     "exception": false,
     "start_time": "2022-12-16T18:31:45.107416",
     "status": "completed"
    },
    "tags": []
   },
   "outputs": [],
   "source": [
    "infer1_adapter = base.SimplePythonGraphAdapter(base.DictResult())\n",
    "infer1_dr = driver.Driver(config_model, \n",
    "                            model_pipeline,\n",
    "                            adapter = infer1_adapter)\n",
    "dinfer1 = dict(\n",
    "    X = infer1_df,\n",
    "    clf = fit_clf\n",
    ")\n",
    "\n",
    "infer1_dr.visualize_execution(['predictions'],\n",
    "                                       f\"./artifacts/infer1_{infer_type}.dot\", \n",
    "                                       {}, \n",
    "                                       inputs = dinfer1\n",
    ")"
   ]
  },
  {
   "cell_type": "code",
   "execution_count": 9,
   "id": "ac77717b",
   "metadata": {
    "execution": {
     "iopub.execute_input": "2022-12-16T18:31:45.475893Z",
     "iopub.status.busy": "2022-12-16T18:31:45.475732Z",
     "iopub.status.idle": "2022-12-16T18:31:45.477702Z",
     "shell.execute_reply": "2022-12-16T18:31:45.477417Z"
    },
    "papermill": {
     "duration": 0.004806,
     "end_time": "2022-12-16T18:31:45.478598",
     "exception": false,
     "start_time": "2022-12-16T18:31:45.473792",
     "status": "completed"
    },
    "tags": []
   },
   "outputs": [],
   "source": [
    "from IPython.display import Image, Markdown"
   ]
  },
  {
   "cell_type": "code",
   "execution_count": 10,
   "id": "76646e8b",
   "metadata": {
    "execution": {
     "iopub.execute_input": "2022-12-16T18:31:45.481935Z",
     "iopub.status.busy": "2022-12-16T18:31:45.481820Z",
     "iopub.status.idle": "2022-12-16T18:31:45.486737Z",
     "shell.execute_reply": "2022-12-16T18:31:45.486476Z"
    },
    "papermill": {
     "duration": 0.007591,
     "end_time": "2022-12-16T18:31:45.487701",
     "exception": false,
     "start_time": "2022-12-16T18:31:45.480110",
     "status": "completed"
    },
    "tags": []
   },
   "outputs": [
    {
     "data": {
      "text/markdown": [
       "![](./infer1_test.dot.pdf)"
      ],
      "text/plain": [
       "<IPython.core.display.Markdown object>"
      ]
     },
     "execution_count": 10,
     "metadata": {},
     "output_type": "execute_result"
    }
   ],
   "source": [
    "Markdown(f\"![](./infer1_{infer_type}.dot.pdf)\")"
   ]
  },
  {
   "cell_type": "code",
   "execution_count": 11,
   "id": "2c193919",
   "metadata": {
    "execution": {
     "iopub.execute_input": "2022-12-16T18:31:45.491095Z",
     "iopub.status.busy": "2022-12-16T18:31:45.490976Z",
     "iopub.status.idle": "2022-12-16T18:31:47.064273Z",
     "shell.execute_reply": "2022-12-16T18:31:47.063969Z"
    },
    "papermill": {
     "duration": 1.576213,
     "end_time": "2022-12-16T18:31:47.065379",
     "exception": false,
     "start_time": "2022-12-16T18:31:45.489166",
     "status": "completed"
    },
    "tags": []
   },
   "outputs": [],
   "source": [
    "infer1dict = infer1_dr.execute(['predictions'],inputs = dinfer1)"
   ]
  },
  {
   "cell_type": "code",
   "execution_count": 12,
   "id": "fb31de22",
   "metadata": {
    "execution": {
     "iopub.execute_input": "2022-12-16T18:31:47.069582Z",
     "iopub.status.busy": "2022-12-16T18:31:47.069459Z",
     "iopub.status.idle": "2022-12-16T18:31:47.071917Z",
     "shell.execute_reply": "2022-12-16T18:31:47.071644Z"
    },
    "papermill": {
     "duration": 0.005489,
     "end_time": "2022-12-16T18:31:47.072848",
     "exception": false,
     "start_time": "2022-12-16T18:31:47.067359",
     "status": "completed"
    },
    "tags": []
   },
   "outputs": [
    {
     "data": {
      "text/plain": [
       "{'predictions': (array([0.03, 0.44, 0.89, ..., 0.06, 0.97, 0.62]),\n",
       "  array([0, 0, 1, ..., 0, 1, 1]))}"
      ]
     },
     "execution_count": 12,
     "metadata": {},
     "output_type": "execute_result"
    }
   ],
   "source": [
    "infer1dict"
   ]
  },
  {
   "cell_type": "code",
   "execution_count": 13,
   "id": "2da11946",
   "metadata": {
    "execution": {
     "iopub.execute_input": "2022-12-16T18:31:47.076635Z",
     "iopub.status.busy": "2022-12-16T18:31:47.076514Z",
     "iopub.status.idle": "2022-12-16T18:31:47.079742Z",
     "shell.execute_reply": "2022-12-16T18:31:47.079482Z"
    },
    "papermill": {
     "duration": 0.006163,
     "end_time": "2022-12-16T18:31:47.080592",
     "exception": false,
     "start_time": "2022-12-16T18:31:47.074429",
     "status": "completed"
    },
    "tags": []
   },
   "outputs": [
    {
     "data": {
      "text/plain": [
       "['results/infer1_test.joblib']"
      ]
     },
     "execution_count": 13,
     "metadata": {},
     "output_type": "execute_result"
    }
   ],
   "source": [
    "dump(infer1dict, f\"results/infer1_{infer_type}.joblib\")"
   ]
  }
 ],
 "metadata": {
  "kernelspec": {
   "display_name": "ml1-arm64",
   "language": "python",
   "name": "ml1-arm64"
  },
  "language_info": {
   "codemirror_mode": {
    "name": "ipython",
    "version": 3
   },
   "file_extension": ".py",
   "mimetype": "text/x-python",
   "name": "python",
   "nbconvert_exporter": "python",
   "pygments_lexer": "ipython3",
   "version": "3.9.13"
  },
  "papermill": {
   "default_parameters": {},
   "duration": 3.774737,
   "end_time": "2022-12-16T18:31:47.413962",
   "environment_variables": {},
   "exception": null,
   "input_path": "infer_from_store.ipynb",
   "output_path": "output_notebooks/infer1_test.ipynb",
   "parameters": {
    "features_file": "intermediate_data/featurestore_test.pkl",
    "infer_type": "test",
    "model_file": "models/rf.joblib"
   },
   "start_time": "2022-12-16T18:31:43.639225",
   "version": "2.4.0"
  },
  "vscode": {
   "interpreter": {
    "hash": "3ad933181bd8a04b432d3370b9dc3b0662ad032c4dfaa4e4f1596c548f763858"
   }
  }
 },
 "nbformat": 4,
 "nbformat_minor": 5
}