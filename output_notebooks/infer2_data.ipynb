{
 "cells": [
  {
   "cell_type": "markdown",
   "id": "d0120cbd",
   "metadata": {
    "papermill": {
     "duration": 0.010998,
     "end_time": "2022-12-16T18:31:48.626483",
     "exception": false,
     "start_time": "2022-12-16T18:31:48.615485",
     "status": "completed"
    },
    "tags": []
   },
   "source": [
    "# A Simple Model"
   ]
  },
  {
   "cell_type": "code",
   "execution_count": 1,
   "id": "21f5d1c3",
   "metadata": {
    "execution": {
     "iopub.execute_input": "2022-12-16T18:31:48.642355Z",
     "iopub.status.busy": "2022-12-16T18:31:48.641718Z",
     "iopub.status.idle": "2022-12-16T18:31:48.813330Z",
     "shell.execute_reply": "2022-12-16T18:31:48.812982Z"
    },
    "papermill": {
     "duration": 0.181103,
     "end_time": "2022-12-16T18:31:48.814740",
     "exception": false,
     "start_time": "2022-12-16T18:31:48.633637",
     "status": "completed"
    },
    "tags": []
   },
   "outputs": [],
   "source": [
    "import pandas as pd\n",
    "from joblib import dump, load\n",
    "from hamilton import driver, base"
   ]
  },
  {
   "cell_type": "code",
   "execution_count": 2,
   "id": "52f4391c",
   "metadata": {
    "execution": {
     "iopub.execute_input": "2022-12-16T18:31:48.818409Z",
     "iopub.status.busy": "2022-12-16T18:31:48.818259Z",
     "iopub.status.idle": "2022-12-16T18:31:48.820256Z",
     "shell.execute_reply": "2022-12-16T18:31:48.819950Z"
    },
    "papermill": {
     "duration": 0.004919,
     "end_time": "2022-12-16T18:31:48.821379",
     "exception": false,
     "start_time": "2022-12-16T18:31:48.816460",
     "status": "completed"
    },
    "tags": [
     "parameters"
    ]
   },
   "outputs": [],
   "source": [
    "# parameters\n",
    "model_file: str = \"models/rf.joblib\"\n",
    "infer_type: str = \"test\"\n",
    "encoder_file: str = \"intermediate_data/encoder.joblib\"\n",
    "data: str = \"data/test.csv\""
   ]
  },
  {
   "cell_type": "code",
   "execution_count": 3,
   "id": "0ccaf23a",
   "metadata": {
    "execution": {
     "iopub.execute_input": "2022-12-16T18:31:48.824598Z",
     "iopub.status.busy": "2022-12-16T18:31:48.824479Z",
     "iopub.status.idle": "2022-12-16T18:31:48.826385Z",
     "shell.execute_reply": "2022-12-16T18:31:48.826050Z"
    },
    "papermill": {
     "duration": 0.004695,
     "end_time": "2022-12-16T18:31:48.827431",
     "exception": false,
     "start_time": "2022-12-16T18:31:48.822736",
     "status": "completed"
    },
    "tags": [
     "injected-parameters"
    ]
   },
   "outputs": [],
   "source": [
    "# Parameters\n",
    "model_file = \"models/rf.joblib\"\n",
    "data = \"data/test.csv\"\n",
    "infer_type = \"data\"\n"
   ]
  },
  {
   "cell_type": "code",
   "execution_count": 4,
   "id": "59a0e097",
   "metadata": {
    "execution": {
     "iopub.execute_input": "2022-12-16T18:31:48.830735Z",
     "iopub.status.busy": "2022-12-16T18:31:48.830619Z",
     "iopub.status.idle": "2022-12-16T18:31:48.832603Z",
     "shell.execute_reply": "2022-12-16T18:31:48.832302Z"
    },
    "papermill": {
     "duration": 0.004818,
     "end_time": "2022-12-16T18:31:48.833690",
     "exception": false,
     "start_time": "2022-12-16T18:31:48.828872",
     "status": "completed"
    },
    "tags": []
   },
   "outputs": [],
   "source": [
    "index_col = 'passengerid'\n",
    "target_col = \"survived\"\n",
    "config_model = {\n",
    "    'index_column': index_col,\n",
    "    'target_column': target_col,\n",
    "    'random_state': 42,\n",
    "    'max_depth': None,\n",
    "    'validation_size_fraction': 0.33,\n",
    "    't': 0.5\n",
    "}"
   ]
  },
  {
   "cell_type": "code",
   "execution_count": 5,
   "id": "1d4215a6",
   "metadata": {
    "execution": {
     "iopub.execute_input": "2022-12-16T18:31:48.836906Z",
     "iopub.status.busy": "2022-12-16T18:31:48.836789Z",
     "iopub.status.idle": "2022-12-16T18:31:49.036733Z",
     "shell.execute_reply": "2022-12-16T18:31:49.036433Z"
    },
    "papermill": {
     "duration": 0.202762,
     "end_time": "2022-12-16T18:31:49.037825",
     "exception": false,
     "start_time": "2022-12-16T18:31:48.835063",
     "status": "completed"
    },
    "tags": []
   },
   "outputs": [],
   "source": [
    "import features_pipeline, model_pipeline"
   ]
  },
  {
   "cell_type": "code",
   "execution_count": 6,
   "id": "73a252db",
   "metadata": {
    "execution": {
     "iopub.execute_input": "2022-12-16T18:31:49.041513Z",
     "iopub.status.busy": "2022-12-16T18:31:49.041395Z",
     "iopub.status.idle": "2022-12-16T18:31:49.326504Z",
     "shell.execute_reply": "2022-12-16T18:31:49.326100Z"
    },
    "papermill": {
     "duration": 0.288419,
     "end_time": "2022-12-16T18:31:49.327950",
     "exception": false,
     "start_time": "2022-12-16T18:31:49.039531",
     "status": "completed"
    },
    "tags": []
   },
   "outputs": [],
   "source": [
    "fit_clf = load(model_file)"
   ]
  },
  {
   "cell_type": "code",
   "execution_count": 7,
   "id": "1da2b197",
   "metadata": {
    "execution": {
     "iopub.execute_input": "2022-12-16T18:31:49.335649Z",
     "iopub.status.busy": "2022-12-16T18:31:49.335511Z",
     "iopub.status.idle": "2022-12-16T18:31:49.444700Z",
     "shell.execute_reply": "2022-12-16T18:31:49.444314Z"
    },
    "papermill": {
     "duration": 0.116255,
     "end_time": "2022-12-16T18:31:49.445967",
     "exception": false,
     "start_time": "2022-12-16T18:31:49.329712",
     "status": "completed"
    },
    "tags": []
   },
   "outputs": [],
   "source": [
    "df = pd.read_csv(data)"
   ]
  },
  {
   "cell_type": "code",
   "execution_count": 8,
   "id": "8c8fd6cb",
   "metadata": {
    "execution": {
     "iopub.execute_input": "2022-12-16T18:31:49.452554Z",
     "iopub.status.busy": "2022-12-16T18:31:49.452399Z",
     "iopub.status.idle": "2022-12-16T18:31:49.454721Z",
     "shell.execute_reply": "2022-12-16T18:31:49.454412Z"
    },
    "papermill": {
     "duration": 0.005367,
     "end_time": "2022-12-16T18:31:49.455681",
     "exception": false,
     "start_time": "2022-12-16T18:31:49.450314",
     "status": "completed"
    },
    "tags": []
   },
   "outputs": [],
   "source": [
    "out = load(encoder_file)"
   ]
  },
  {
   "cell_type": "code",
   "execution_count": 9,
   "id": "2f8b3893",
   "metadata": {
    "execution": {
     "iopub.execute_input": "2022-12-16T18:31:49.459153Z",
     "iopub.status.busy": "2022-12-16T18:31:49.459029Z",
     "iopub.status.idle": "2022-12-16T18:31:49.461001Z",
     "shell.execute_reply": "2022-12-16T18:31:49.460697Z"
    },
    "papermill": {
     "duration": 0.00474,
     "end_time": "2022-12-16T18:31:49.461901",
     "exception": false,
     "start_time": "2022-12-16T18:31:49.457161",
     "status": "completed"
    },
    "tags": []
   },
   "outputs": [],
   "source": [
    "inputencoders = {}\n",
    "for k in out['encoders']:\n",
    "    knew = \"\".join(k.split('_'))\n",
    "    inputencoders[knew] = out['encoders'][k]"
   ]
  },
  {
   "cell_type": "markdown",
   "id": "36aedf54",
   "metadata": {
    "papermill": {
     "duration": 0.001479,
     "end_time": "2022-12-16T18:31:49.464946",
     "exception": false,
     "start_time": "2022-12-16T18:31:49.463467",
     "status": "completed"
    },
    "tags": []
   },
   "source": [
    "## Inference 2: Inference from the very beginning of the data"
   ]
  },
  {
   "cell_type": "code",
   "execution_count": 10,
   "id": "7ce5926a",
   "metadata": {
    "execution": {
     "iopub.execute_input": "2022-12-16T18:31:49.469963Z",
     "iopub.status.busy": "2022-12-16T18:31:49.469830Z",
     "iopub.status.idle": "2022-12-16T18:31:49.471625Z",
     "shell.execute_reply": "2022-12-16T18:31:49.471344Z"
    },
    "papermill": {
     "duration": 0.005455,
     "end_time": "2022-12-16T18:31:49.472554",
     "exception": false,
     "start_time": "2022-12-16T18:31:49.467099",
     "status": "completed"
    },
    "tags": []
   },
   "outputs": [],
   "source": [
    "config_infer2 = {\n",
    "    'index_column': index_col,\n",
    "    'target_column': target_col,\n",
    "    't': 0.5\n",
    "}\n"
   ]
  },
  {
   "cell_type": "code",
   "execution_count": 11,
   "id": "68bf52b1",
   "metadata": {
    "execution": {
     "iopub.execute_input": "2022-12-16T18:31:49.476290Z",
     "iopub.status.busy": "2022-12-16T18:31:49.476165Z",
     "iopub.status.idle": "2022-12-16T18:31:49.808156Z",
     "shell.execute_reply": "2022-12-16T18:31:49.807676Z"
    },
    "papermill": {
     "duration": 0.335137,
     "end_time": "2022-12-16T18:31:49.809391",
     "exception": false,
     "start_time": "2022-12-16T18:31:49.474254",
     "status": "completed"
    },
    "tags": []
   },
   "outputs": [],
   "source": [
    "infer2_adapter = base.SimplePythonGraphAdapter(base.DictResult())\n",
    "infer2_dr = driver.Driver(config_infer2, \n",
    "                            features_pipeline, model_pipeline,\n",
    "                            adapter = infer2_adapter)\n",
    "dinfer2 = dict(\n",
    "    df = df,\n",
    "    clf = fit_clf,\n",
    "    **inputencoders\n",
    ")\n",
    "\n",
    "infer2_dr.visualize_execution(['chain_predictions'],\n",
    "                                       f\"./artifacts/infer2_{infer_type}.dot\", \n",
    "                                       {}, \n",
    "                                       inputs = dinfer2\n",
    ")"
   ]
  },
  {
   "cell_type": "code",
   "execution_count": 12,
   "id": "c3ed30e2",
   "metadata": {
    "execution": {
     "iopub.execute_input": "2022-12-16T18:31:49.813563Z",
     "iopub.status.busy": "2022-12-16T18:31:49.813402Z",
     "iopub.status.idle": "2022-12-16T18:31:49.815503Z",
     "shell.execute_reply": "2022-12-16T18:31:49.815136Z"
    },
    "papermill": {
     "duration": 0.005387,
     "end_time": "2022-12-16T18:31:49.816525",
     "exception": false,
     "start_time": "2022-12-16T18:31:49.811138",
     "status": "completed"
    },
    "tags": []
   },
   "outputs": [],
   "source": [
    "from IPython.display import Image, Markdown"
   ]
  },
  {
   "cell_type": "code",
   "execution_count": 13,
   "id": "227dce26",
   "metadata": {
    "execution": {
     "iopub.execute_input": "2022-12-16T18:31:49.820516Z",
     "iopub.status.busy": "2022-12-16T18:31:49.820391Z",
     "iopub.status.idle": "2022-12-16T18:31:49.825989Z",
     "shell.execute_reply": "2022-12-16T18:31:49.825653Z"
    },
    "papermill": {
     "duration": 0.008673,
     "end_time": "2022-12-16T18:31:49.826997",
     "exception": false,
     "start_time": "2022-12-16T18:31:49.818324",
     "status": "completed"
    },
    "tags": []
   },
   "outputs": [
    {
     "data": {
      "text/markdown": [
       "![](./infer2_data.dot.pdf)"
      ],
      "text/plain": [
       "<IPython.core.display.Markdown object>"
      ]
     },
     "execution_count": 13,
     "metadata": {},
     "output_type": "execute_result"
    }
   ],
   "source": [
    "Markdown(f\"![](./infer2_{infer_type}.dot.pdf)\")"
   ]
  },
  {
   "cell_type": "code",
   "execution_count": 14,
   "id": "b4add13b",
   "metadata": {
    "execution": {
     "iopub.execute_input": "2022-12-16T18:31:49.831007Z",
     "iopub.status.busy": "2022-12-16T18:31:49.830869Z",
     "iopub.status.idle": "2022-12-16T18:31:51.467133Z",
     "shell.execute_reply": "2022-12-16T18:31:51.466838Z"
    },
    "papermill": {
     "duration": 1.639536,
     "end_time": "2022-12-16T18:31:51.468295",
     "exception": false,
     "start_time": "2022-12-16T18:31:49.828759",
     "status": "completed"
    },
    "tags": []
   },
   "outputs": [
    {
     "name": "stdout",
     "output_type": "stream",
     "text": [
      "<class 'pandas.core.frame.DataFrame'>\n"
     ]
    }
   ],
   "source": [
    "infer2dict = infer2_dr.execute(['chain_predictions'],inputs = dinfer2)"
   ]
  },
  {
   "cell_type": "code",
   "execution_count": 15,
   "id": "8506bb3c",
   "metadata": {
    "execution": {
     "iopub.execute_input": "2022-12-16T18:31:51.472333Z",
     "iopub.status.busy": "2022-12-16T18:31:51.472220Z",
     "iopub.status.idle": "2022-12-16T18:31:51.474544Z",
     "shell.execute_reply": "2022-12-16T18:31:51.474294Z"
    },
    "papermill": {
     "duration": 0.005462,
     "end_time": "2022-12-16T18:31:51.475512",
     "exception": false,
     "start_time": "2022-12-16T18:31:51.470050",
     "status": "completed"
    },
    "tags": []
   },
   "outputs": [
    {
     "data": {
      "text/plain": [
       "(array([0.03, 0.44, 0.89, ..., 0.06, 0.97, 0.62]),\n",
       " array([0, 0, 1, ..., 0, 1, 1]))"
      ]
     },
     "execution_count": 15,
     "metadata": {},
     "output_type": "execute_result"
    }
   ],
   "source": [
    "infer2dict['chain_predictions']"
   ]
  },
  {
   "cell_type": "code",
   "execution_count": 16,
   "id": "40530ddd",
   "metadata": {
    "execution": {
     "iopub.execute_input": "2022-12-16T18:31:51.479136Z",
     "iopub.status.busy": "2022-12-16T18:31:51.479030Z",
     "iopub.status.idle": "2022-12-16T18:31:51.482031Z",
     "shell.execute_reply": "2022-12-16T18:31:51.481774Z"
    },
    "papermill": {
     "duration": 0.005943,
     "end_time": "2022-12-16T18:31:51.483017",
     "exception": false,
     "start_time": "2022-12-16T18:31:51.477074",
     "status": "completed"
    },
    "tags": []
   },
   "outputs": [
    {
     "data": {
      "text/plain": [
       "['results/infer2_data.joblib']"
      ]
     },
     "execution_count": 16,
     "metadata": {},
     "output_type": "execute_result"
    }
   ],
   "source": [
    "dump(infer2dict, f\"results/infer2_{infer_type}.joblib\")"
   ]
  }
 ],
 "metadata": {
  "kernelspec": {
   "display_name": "ml1-arm64",
   "language": "python",
   "name": "ml1-arm64"
  },
  "language_info": {
   "codemirror_mode": {
    "name": "ipython",
    "version": 3
   },
   "file_extension": ".py",
   "mimetype": "text/x-python",
   "name": "python",
   "nbconvert_exporter": "python",
   "pygments_lexer": "ipython3",
   "version": "3.9.13"
  },
  "papermill": {
   "default_parameters": {},
   "duration": 4.03309,
   "end_time": "2022-12-16T18:31:51.815398",
   "environment_variables": {},
   "exception": null,
   "input_path": "infer_from_scratch.ipynb",
   "output_path": "output_notebooks/infer2_data.ipynb",
   "parameters": {
    "data": "data/test.csv",
    "infer_type": "data",
    "model_file": "models/rf.joblib"
   },
   "start_time": "2022-12-16T18:31:47.782308",
   "version": "2.4.0"
  },
  "vscode": {
   "interpreter": {
    "hash": "3ad933181bd8a04b432d3370b9dc3b0662ad032c4dfaa4e4f1596c548f763858"
   }
  }
 },
 "nbformat": 4,
 "nbformat_minor": 5
}