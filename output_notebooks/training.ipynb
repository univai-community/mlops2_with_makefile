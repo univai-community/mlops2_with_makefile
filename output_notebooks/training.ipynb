{
 "cells": [
  {
   "cell_type": "markdown",
   "id": "71d9d926",
   "metadata": {
    "papermill": {
     "duration": 0.013928,
     "end_time": "2022-12-16T18:31:35.922088",
     "exception": false,
     "start_time": "2022-12-16T18:31:35.908160",
     "status": "completed"
    },
    "tags": []
   },
   "source": [
    "# A Simple Model"
   ]
  },
  {
   "cell_type": "code",
   "execution_count": 1,
   "id": "f629ff15",
   "metadata": {
    "execution": {
     "iopub.execute_input": "2022-12-16T18:31:35.939813Z",
     "iopub.status.busy": "2022-12-16T18:31:35.939128Z",
     "iopub.status.idle": "2022-12-16T18:31:36.116886Z",
     "shell.execute_reply": "2022-12-16T18:31:36.116540Z"
    },
    "papermill": {
     "duration": 0.189875,
     "end_time": "2022-12-16T18:31:36.118284",
     "exception": false,
     "start_time": "2022-12-16T18:31:35.928409",
     "status": "completed"
    },
    "tags": []
   },
   "outputs": [],
   "source": [
    "import pandas as pd\n",
    "from joblib import dump, load\n",
    "from hamilton import driver, base"
   ]
  },
  {
   "cell_type": "code",
   "execution_count": 2,
   "id": "2406da4e",
   "metadata": {
    "execution": {
     "iopub.execute_input": "2022-12-16T18:31:36.121652Z",
     "iopub.status.busy": "2022-12-16T18:31:36.121496Z",
     "iopub.status.idle": "2022-12-16T18:31:36.123681Z",
     "shell.execute_reply": "2022-12-16T18:31:36.123372Z"
    },
    "papermill": {
     "duration": 0.004983,
     "end_time": "2022-12-16T18:31:36.124834",
     "exception": false,
     "start_time": "2022-12-16T18:31:36.119851",
     "status": "completed"
    },
    "tags": []
   },
   "outputs": [],
   "source": [
    "index_col = 'passengerid'\n",
    "target_col = \"survived\"\n",
    "cat_cols = [\"sex\", \"cabin\", \"embarked\"]\n",
    "config = {\n",
    "    'index_column': index_col,\n",
    "    'target_column': target_col,\n",
    "    'categorical_columns': cat_cols\n",
    "}"
   ]
  },
  {
   "cell_type": "code",
   "execution_count": 3,
   "id": "3bf915cc",
   "metadata": {
    "execution": {
     "iopub.execute_input": "2022-12-16T18:31:36.127707Z",
     "iopub.status.busy": "2022-12-16T18:31:36.127598Z",
     "iopub.status.idle": "2022-12-16T18:31:36.129319Z",
     "shell.execute_reply": "2022-12-16T18:31:36.129021Z"
    },
    "papermill": {
     "duration": 0.004301,
     "end_time": "2022-12-16T18:31:36.130337",
     "exception": false,
     "start_time": "2022-12-16T18:31:36.126036",
     "status": "completed"
    },
    "tags": [
     "parameters"
    ]
   },
   "outputs": [],
   "source": [
    "# parameters\n",
    "features_file: str = \"intermediate_data/featurestore_train.pkl\"\n",
    "training_data: str = \"data/train.csv\""
   ]
  },
  {
   "cell_type": "code",
   "execution_count": 4,
   "id": "d4166deb",
   "metadata": {
    "execution": {
     "iopub.execute_input": "2022-12-16T18:31:36.133340Z",
     "iopub.status.busy": "2022-12-16T18:31:36.133229Z",
     "iopub.status.idle": "2022-12-16T18:31:36.134953Z",
     "shell.execute_reply": "2022-12-16T18:31:36.134649Z"
    },
    "papermill": {
     "duration": 0.004348,
     "end_time": "2022-12-16T18:31:36.135992",
     "exception": false,
     "start_time": "2022-12-16T18:31:36.131644",
     "status": "completed"
    },
    "tags": [
     "injected-parameters"
    ]
   },
   "outputs": [],
   "source": [
    "# Parameters\n",
    "features_file = \"intermediate_data/featurestore_train.pkl\"\n",
    "training_data = \"data/train.csv\"\n"
   ]
  },
  {
   "cell_type": "code",
   "execution_count": 5,
   "id": "6fd6db1d",
   "metadata": {
    "execution": {
     "iopub.execute_input": "2022-12-16T18:31:36.138913Z",
     "iopub.status.busy": "2022-12-16T18:31:36.138806Z",
     "iopub.status.idle": "2022-12-16T18:31:36.142195Z",
     "shell.execute_reply": "2022-12-16T18:31:36.141868Z"
    },
    "papermill": {
     "duration": 0.006056,
     "end_time": "2022-12-16T18:31:36.143274",
     "exception": false,
     "start_time": "2022-12-16T18:31:36.137218",
     "status": "completed"
    },
    "tags": []
   },
   "outputs": [],
   "source": [
    "traindf = pd.read_pickle(features_file)"
   ]
  },
  {
   "cell_type": "code",
   "execution_count": 6,
   "id": "027b3d7b",
   "metadata": {
    "execution": {
     "iopub.execute_input": "2022-12-16T18:31:36.146588Z",
     "iopub.status.busy": "2022-12-16T18:31:36.146470Z",
     "iopub.status.idle": "2022-12-16T18:31:36.229957Z",
     "shell.execute_reply": "2022-12-16T18:31:36.229618Z"
    },
    "papermill": {
     "duration": 0.08645,
     "end_time": "2022-12-16T18:31:36.231074",
     "exception": false,
     "start_time": "2022-12-16T18:31:36.144624",
     "status": "completed"
    },
    "tags": []
   },
   "outputs": [],
   "source": [
    "df_train = pd.read_csv(training_data)"
   ]
  },
  {
   "cell_type": "markdown",
   "id": "f2748128",
   "metadata": {
    "papermill": {
     "duration": 0.00139,
     "end_time": "2022-12-16T18:31:36.234008",
     "exception": false,
     "start_time": "2022-12-16T18:31:36.232618",
     "status": "completed"
    },
    "tags": []
   },
   "source": [
    "## Model Training Pipeline"
   ]
  },
  {
   "cell_type": "code",
   "execution_count": 7,
   "id": "f9b3ce0b",
   "metadata": {
    "execution": {
     "iopub.execute_input": "2022-12-16T18:31:36.237575Z",
     "iopub.status.busy": "2022-12-16T18:31:36.237416Z",
     "iopub.status.idle": "2022-12-16T18:31:36.468587Z",
     "shell.execute_reply": "2022-12-16T18:31:36.468269Z"
    },
    "papermill": {
     "duration": 0.234363,
     "end_time": "2022-12-16T18:31:36.469659",
     "exception": false,
     "start_time": "2022-12-16T18:31:36.235296",
     "status": "completed"
    },
    "tags": []
   },
   "outputs": [],
   "source": [
    "import model_pipeline, features_pipeline"
   ]
  },
  {
   "cell_type": "code",
   "execution_count": 8,
   "id": "eb4f7a55",
   "metadata": {
    "execution": {
     "iopub.execute_input": "2022-12-16T18:31:36.472923Z",
     "iopub.status.busy": "2022-12-16T18:31:36.472817Z",
     "iopub.status.idle": "2022-12-16T18:31:36.474643Z",
     "shell.execute_reply": "2022-12-16T18:31:36.474371Z"
    },
    "papermill": {
     "duration": 0.004325,
     "end_time": "2022-12-16T18:31:36.475500",
     "exception": false,
     "start_time": "2022-12-16T18:31:36.471175",
     "status": "completed"
    },
    "tags": []
   },
   "outputs": [],
   "source": [
    "config_model = {\n",
    "    'index_column': index_col,\n",
    "    'target_column': target_col,\n",
    "    'random_state': 42,\n",
    "    'max_depth': None,\n",
    "    'validation_size_fraction': 0.33,\n",
    "    't': 0.5\n",
    "}"
   ]
  },
  {
   "cell_type": "code",
   "execution_count": 9,
   "id": "6fe7ef03",
   "metadata": {
    "execution": {
     "iopub.execute_input": "2022-12-16T18:31:36.478496Z",
     "iopub.status.busy": "2022-12-16T18:31:36.478387Z",
     "iopub.status.idle": "2022-12-16T18:31:36.887863Z",
     "shell.execute_reply": "2022-12-16T18:31:36.887336Z"
    },
    "papermill": {
     "duration": 0.412296,
     "end_time": "2022-12-16T18:31:36.889084",
     "exception": false,
     "start_time": "2022-12-16T18:31:36.476788",
     "status": "completed"
    },
    "tags": []
   },
   "outputs": [],
   "source": [
    "training_adapter = base.SimplePythonGraphAdapter(base.DictResult())\n",
    "training_dr = driver.Driver(config_model, \n",
    "                            features_pipeline, model_pipeline,\n",
    "                           adapter=training_adapter)\n",
    "dtraining = dict(\n",
    "    df_train = df_train,\n",
    "    final_feature_matrix = traindf\n",
    ")\n",
    "training_dr.visualize_execution(['fit_clf', 'train_predictions', 'valid_predictions'],\n",
    "                                       './artifacts/training.dot', \n",
    "                                       {}, \n",
    "                                       inputs = dtraining\n",
    ")"
   ]
  },
  {
   "cell_type": "markdown",
   "id": "33a3fc35",
   "metadata": {
    "papermill": {
     "duration": 0.001279,
     "end_time": "2022-12-16T18:31:36.891953",
     "exception": false,
     "start_time": "2022-12-16T18:31:36.890674",
     "status": "completed"
    },
    "tags": []
   },
   "source": [
    "![](./training.dot.pdf)"
   ]
  },
  {
   "cell_type": "code",
   "execution_count": 10,
   "id": "f57cb976",
   "metadata": {
    "execution": {
     "iopub.execute_input": "2022-12-16T18:31:36.895281Z",
     "iopub.status.busy": "2022-12-16T18:31:36.895132Z",
     "iopub.status.idle": "2022-12-16T18:31:42.768021Z",
     "shell.execute_reply": "2022-12-16T18:31:42.767677Z"
    },
    "papermill": {
     "duration": 5.875941,
     "end_time": "2022-12-16T18:31:42.769186",
     "exception": false,
     "start_time": "2022-12-16T18:31:36.893245",
     "status": "completed"
    },
    "tags": []
   },
   "outputs": [],
   "source": [
    "rfdict = training_dr.execute(['fit_clf', 'train_predictions', 'valid_predictions'], inputs = dtraining)"
   ]
  },
  {
   "cell_type": "code",
   "execution_count": 11,
   "id": "59a682ee",
   "metadata": {
    "execution": {
     "iopub.execute_input": "2022-12-16T18:31:42.772726Z",
     "iopub.status.busy": "2022-12-16T18:31:42.772612Z",
     "iopub.status.idle": "2022-12-16T18:31:42.778167Z",
     "shell.execute_reply": "2022-12-16T18:31:42.777902Z"
    },
    "papermill": {
     "duration": 0.008277,
     "end_time": "2022-12-16T18:31:42.779085",
     "exception": false,
     "start_time": "2022-12-16T18:31:42.770808",
     "status": "completed"
    },
    "tags": []
   },
   "outputs": [
    {
     "data": {
      "text/plain": [
       "{'fit_clf': RandomForestClassifier(random_state=42),\n",
       " 'train_predictions': (array([0.93, 0.15, 0.  , ..., 0.88, 0.96, 0.94]),\n",
       "  array([1, 0, 0, ..., 1, 1, 1])),\n",
       " 'valid_predictions': (array([0.94, 0.49, 0.89, ..., 0.03, 0.07, 0.08]),\n",
       "  array([1, 0, 1, ..., 0, 0, 0]))}"
      ]
     },
     "execution_count": 11,
     "metadata": {},
     "output_type": "execute_result"
    }
   ],
   "source": [
    "rfdict"
   ]
  },
  {
   "cell_type": "code",
   "execution_count": 12,
   "id": "7044a75c",
   "metadata": {
    "execution": {
     "iopub.execute_input": "2022-12-16T18:31:42.782470Z",
     "iopub.status.busy": "2022-12-16T18:31:42.782357Z",
     "iopub.status.idle": "2022-12-16T18:31:42.904433Z",
     "shell.execute_reply": "2022-12-16T18:31:42.904168Z"
    },
    "papermill": {
     "duration": 0.124779,
     "end_time": "2022-12-16T18:31:42.905340",
     "exception": false,
     "start_time": "2022-12-16T18:31:42.780561",
     "status": "completed"
    },
    "tags": []
   },
   "outputs": [
    {
     "data": {
      "text/plain": [
       "['models/rf.joblib']"
      ]
     },
     "execution_count": 12,
     "metadata": {},
     "output_type": "execute_result"
    }
   ],
   "source": [
    "dump(rfdict['fit_clf'], \"models/rf.joblib\")"
   ]
  }
 ],
 "metadata": {
  "kernelspec": {
   "display_name": "ml1-arm64",
   "language": "python",
   "name": "ml1-arm64"
  },
  "language_info": {
   "codemirror_mode": {
    "name": "ipython",
    "version": 3
   },
   "file_extension": ".py",
   "mimetype": "text/x-python",
   "name": "python",
   "nbconvert_exporter": "python",
   "pygments_lexer": "ipython3",
   "version": "3.9.13"
  },
  "papermill": {
   "default_parameters": {},
   "duration": 8.155649,
   "end_time": "2022-12-16T18:31:43.230640",
   "environment_variables": {},
   "exception": null,
   "input_path": "training.ipynb",
   "output_path": "output_notebooks/training.ipynb",
   "parameters": {
    "features_file": "intermediate_data/featurestore_train.pkl",
    "training_data": "data/train.csv"
   },
   "start_time": "2022-12-16T18:31:35.074991",
   "version": "2.4.0"
  },
  "vscode": {
   "interpreter": {
    "hash": "3ad933181bd8a04b432d3370b9dc3b0662ad032c4dfaa4e4f1596c548f763858"
   }
  }
 },
 "nbformat": 4,
 "nbformat_minor": 5
}