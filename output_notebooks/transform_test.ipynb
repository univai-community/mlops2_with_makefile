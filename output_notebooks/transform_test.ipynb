{
 "cells": [
  {
   "cell_type": "markdown",
   "id": "3eda1bbd",
   "metadata": {
    "papermill": {
     "duration": 0.016953,
     "end_time": "2022-12-16T18:31:33.356561",
     "exception": false,
     "start_time": "2022-12-16T18:31:33.339608",
     "status": "completed"
    },
    "tags": []
   },
   "source": [
    "# A Simple Model"
   ]
  },
  {
   "cell_type": "code",
   "execution_count": 1,
   "id": "15ffd18f",
   "metadata": {
    "execution": {
     "iopub.execute_input": "2022-12-16T18:31:33.381266Z",
     "iopub.status.busy": "2022-12-16T18:31:33.380894Z",
     "iopub.status.idle": "2022-12-16T18:31:33.555805Z",
     "shell.execute_reply": "2022-12-16T18:31:33.555474Z"
    },
    "papermill": {
     "duration": 0.184703,
     "end_time": "2022-12-16T18:31:33.557294",
     "exception": false,
     "start_time": "2022-12-16T18:31:33.372591",
     "status": "completed"
    },
    "tags": []
   },
   "outputs": [],
   "source": [
    "import pandas as pd\n",
    "from joblib import dump, load\n",
    "from hamilton import driver, base"
   ]
  },
  {
   "cell_type": "code",
   "execution_count": 2,
   "id": "56bffdf0",
   "metadata": {
    "execution": {
     "iopub.execute_input": "2022-12-16T18:31:33.560993Z",
     "iopub.status.busy": "2022-12-16T18:31:33.560841Z",
     "iopub.status.idle": "2022-12-16T18:31:33.740001Z",
     "shell.execute_reply": "2022-12-16T18:31:33.739699Z"
    },
    "papermill": {
     "duration": 0.182094,
     "end_time": "2022-12-16T18:31:33.741115",
     "exception": false,
     "start_time": "2022-12-16T18:31:33.559021",
     "status": "completed"
    },
    "tags": []
   },
   "outputs": [],
   "source": [
    "import features_pipeline\n"
   ]
  },
  {
   "cell_type": "code",
   "execution_count": 3,
   "id": "85cd4580",
   "metadata": {
    "execution": {
     "iopub.execute_input": "2022-12-16T18:31:33.744544Z",
     "iopub.status.busy": "2022-12-16T18:31:33.744434Z",
     "iopub.status.idle": "2022-12-16T18:31:33.746268Z",
     "shell.execute_reply": "2022-12-16T18:31:33.746023Z"
    },
    "papermill": {
     "duration": 0.004519,
     "end_time": "2022-12-16T18:31:33.747149",
     "exception": false,
     "start_time": "2022-12-16T18:31:33.742630",
     "status": "completed"
    },
    "tags": []
   },
   "outputs": [],
   "source": [
    "index_col = 'passengerid'\n",
    "target_col = \"survived\"\n",
    "cat_cols = [\"sex\", \"cabin\", \"embarked\"]\n",
    "config = {\n",
    "    'index_column': index_col,\n",
    "    'target_column': target_col,\n",
    "    'categorical_columns': cat_cols\n",
    "}"
   ]
  },
  {
   "cell_type": "markdown",
   "id": "d0afb5bd",
   "metadata": {
    "papermill": {
     "duration": 0.001266,
     "end_time": "2022-12-16T18:31:33.749847",
     "exception": false,
     "start_time": "2022-12-16T18:31:33.748581",
     "status": "completed"
    },
    "tags": []
   },
   "source": [
    "## Data Transformation Pipeline 2: Use encoders to transform data."
   ]
  },
  {
   "cell_type": "code",
   "execution_count": 4,
   "id": "fa4f1b78",
   "metadata": {
    "execution": {
     "iopub.execute_input": "2022-12-16T18:31:33.752822Z",
     "iopub.status.busy": "2022-12-16T18:31:33.752717Z",
     "iopub.status.idle": "2022-12-16T18:31:33.754338Z",
     "shell.execute_reply": "2022-12-16T18:31:33.754062Z"
    },
    "papermill": {
     "duration": 0.004201,
     "end_time": "2022-12-16T18:31:33.755245",
     "exception": false,
     "start_time": "2022-12-16T18:31:33.751044",
     "status": "completed"
    },
    "tags": [
     "parameters"
    ]
   },
   "outputs": [],
   "source": [
    "# parameters\n",
    "encoder_file: str = \"intermediate_data/encoder.joblib\"\n",
    "data: str = \"data/train.csv\"\n",
    "datatype: str = \"train\""
   ]
  },
  {
   "cell_type": "code",
   "execution_count": 5,
   "id": "2903f277",
   "metadata": {
    "execution": {
     "iopub.execute_input": "2022-12-16T18:31:33.758544Z",
     "iopub.status.busy": "2022-12-16T18:31:33.758437Z",
     "iopub.status.idle": "2022-12-16T18:31:33.760004Z",
     "shell.execute_reply": "2022-12-16T18:31:33.759754Z"
    },
    "papermill": {
     "duration": 0.004174,
     "end_time": "2022-12-16T18:31:33.760866",
     "exception": false,
     "start_time": "2022-12-16T18:31:33.756692",
     "status": "completed"
    },
    "tags": [
     "injected-parameters"
    ]
   },
   "outputs": [],
   "source": [
    "# Parameters\n",
    "data = \"data/test.csv\"\n",
    "datatype = \"test\"\n"
   ]
  },
  {
   "cell_type": "code",
   "execution_count": 6,
   "id": "85eb5052",
   "metadata": {
    "execution": {
     "iopub.execute_input": "2022-12-16T18:31:33.763890Z",
     "iopub.status.busy": "2022-12-16T18:31:33.763785Z",
     "iopub.status.idle": "2022-12-16T18:31:33.765704Z",
     "shell.execute_reply": "2022-12-16T18:31:33.765412Z"
    },
    "papermill": {
     "duration": 0.004465,
     "end_time": "2022-12-16T18:31:33.766601",
     "exception": false,
     "start_time": "2022-12-16T18:31:33.762136",
     "status": "completed"
    },
    "tags": []
   },
   "outputs": [],
   "source": [
    "out = load(encoder_file)"
   ]
  },
  {
   "cell_type": "code",
   "execution_count": 7,
   "id": "9c2d0088",
   "metadata": {
    "execution": {
     "iopub.execute_input": "2022-12-16T18:31:33.769837Z",
     "iopub.status.busy": "2022-12-16T18:31:33.769739Z",
     "iopub.status.idle": "2022-12-16T18:31:33.771510Z",
     "shell.execute_reply": "2022-12-16T18:31:33.771252Z"
    },
    "papermill": {
     "duration": 0.004376,
     "end_time": "2022-12-16T18:31:33.772382",
     "exception": false,
     "start_time": "2022-12-16T18:31:33.768006",
     "status": "completed"
    },
    "tags": []
   },
   "outputs": [],
   "source": [
    "inputencoders = {}\n",
    "for k in out['encoders']:\n",
    "    knew = \"\".join(k.split('_'))\n",
    "    inputencoders[knew] = out['encoders'][k]"
   ]
  },
  {
   "cell_type": "code",
   "execution_count": 8,
   "id": "58def931",
   "metadata": {
    "execution": {
     "iopub.execute_input": "2022-12-16T18:31:33.775487Z",
     "iopub.status.busy": "2022-12-16T18:31:33.775397Z",
     "iopub.status.idle": "2022-12-16T18:31:33.780225Z",
     "shell.execute_reply": "2022-12-16T18:31:33.779971Z"
    },
    "papermill": {
     "duration": 0.007423,
     "end_time": "2022-12-16T18:31:33.781118",
     "exception": false,
     "start_time": "2022-12-16T18:31:33.773695",
     "status": "completed"
    },
    "tags": []
   },
   "outputs": [
    {
     "data": {
      "text/plain": [
       "{'cabinencoder': LabelEncoder(),\n",
       " 'sexencoder': LabelEncoder(),\n",
       " 'embarkedencoder': LabelEncoder()}"
      ]
     },
     "execution_count": 8,
     "metadata": {},
     "output_type": "execute_result"
    }
   ],
   "source": [
    "inputencoders"
   ]
  },
  {
   "cell_type": "code",
   "execution_count": 9,
   "id": "0fb75b8b",
   "metadata": {
    "execution": {
     "iopub.execute_input": "2022-12-16T18:31:33.784588Z",
     "iopub.status.busy": "2022-12-16T18:31:33.784483Z",
     "iopub.status.idle": "2022-12-16T18:31:33.858771Z",
     "shell.execute_reply": "2022-12-16T18:31:33.858464Z"
    },
    "papermill": {
     "duration": 0.077185,
     "end_time": "2022-12-16T18:31:33.859851",
     "exception": false,
     "start_time": "2022-12-16T18:31:33.782666",
     "status": "completed"
    },
    "tags": []
   },
   "outputs": [],
   "source": [
    "df = pd.read_csv(data)"
   ]
  },
  {
   "cell_type": "markdown",
   "id": "a0e99203",
   "metadata": {
    "papermill": {
     "duration": 0.001457,
     "end_time": "2022-12-16T18:31:33.862988",
     "exception": false,
     "start_time": "2022-12-16T18:31:33.861531",
     "status": "completed"
    },
    "tags": []
   },
   "source": [
    "### Transform the training set"
   ]
  },
  {
   "cell_type": "code",
   "execution_count": 10,
   "id": "f5b89a9f",
   "metadata": {
    "execution": {
     "iopub.execute_input": "2022-12-16T18:31:33.866351Z",
     "iopub.status.busy": "2022-12-16T18:31:33.866243Z",
     "iopub.status.idle": "2022-12-16T18:31:34.249262Z",
     "shell.execute_reply": "2022-12-16T18:31:34.248813Z"
    },
    "papermill": {
     "duration": 0.386068,
     "end_time": "2022-12-16T18:31:34.250429",
     "exception": false,
     "start_time": "2022-12-16T18:31:33.864361",
     "status": "completed"
    },
    "tags": []
   },
   "outputs": [],
   "source": [
    "transform_dr = driver.Driver(config, features_pipeline)\n",
    "ddf = dict(df = df, **inputencoders) \n",
    "#print(transform_train_dr.list_available_variables())\n",
    "transform_dr.visualize_execution(['final_imputed_features'],\n",
    "                                       f\"./artifacts/trans{datatype}.dot\", \n",
    "                                       {}, \n",
    "                                       inputs = ddf\n",
    ")"
   ]
  },
  {
   "cell_type": "code",
   "execution_count": 11,
   "id": "30c06637",
   "metadata": {
    "execution": {
     "iopub.execute_input": "2022-12-16T18:31:34.254214Z",
     "iopub.status.busy": "2022-12-16T18:31:34.254091Z",
     "iopub.status.idle": "2022-12-16T18:31:34.255980Z",
     "shell.execute_reply": "2022-12-16T18:31:34.255711Z"
    },
    "papermill": {
     "duration": 0.00501,
     "end_time": "2022-12-16T18:31:34.257009",
     "exception": false,
     "start_time": "2022-12-16T18:31:34.251999",
     "status": "completed"
    },
    "tags": []
   },
   "outputs": [],
   "source": [
    "from IPython.display import Image, Markdown"
   ]
  },
  {
   "cell_type": "code",
   "execution_count": 12,
   "id": "40715e12",
   "metadata": {
    "execution": {
     "iopub.execute_input": "2022-12-16T18:31:34.260947Z",
     "iopub.status.busy": "2022-12-16T18:31:34.260822Z",
     "iopub.status.idle": "2022-12-16T18:31:34.263175Z",
     "shell.execute_reply": "2022-12-16T18:31:34.262899Z"
    },
    "papermill": {
     "duration": 0.005315,
     "end_time": "2022-12-16T18:31:34.264103",
     "exception": false,
     "start_time": "2022-12-16T18:31:34.258788",
     "status": "completed"
    },
    "tags": []
   },
   "outputs": [
    {
     "data": {
      "text/markdown": [
       "![](./transtest.dot.pdf)"
      ],
      "text/plain": [
       "<IPython.core.display.Markdown object>"
      ]
     },
     "execution_count": 12,
     "metadata": {},
     "output_type": "execute_result"
    }
   ],
   "source": [
    "Markdown(f\"![](./trans{datatype}.dot.pdf)\")"
   ]
  },
  {
   "cell_type": "code",
   "execution_count": 13,
   "id": "18120fe3",
   "metadata": {
    "execution": {
     "iopub.execute_input": "2022-12-16T18:31:34.267860Z",
     "iopub.status.busy": "2022-12-16T18:31:34.267742Z",
     "iopub.status.idle": "2022-12-16T18:31:34.348195Z",
     "shell.execute_reply": "2022-12-16T18:31:34.347867Z"
    },
    "papermill": {
     "duration": 0.083445,
     "end_time": "2022-12-16T18:31:34.349168",
     "exception": false,
     "start_time": "2022-12-16T18:31:34.265723",
     "status": "completed"
    },
    "tags": []
   },
   "outputs": [
    {
     "name": "stdout",
     "output_type": "stream",
     "text": [
      "<class 'pandas.core.frame.DataFrame'>\n"
     ]
    }
   ],
   "source": [
    "outputdf = transform_dr.execute(['final_imputed_features'], inputs = ddf)"
   ]
  },
  {
   "cell_type": "code",
   "execution_count": 14,
   "id": "663c2487",
   "metadata": {
    "execution": {
     "iopub.execute_input": "2022-12-16T18:31:34.353346Z",
     "iopub.status.busy": "2022-12-16T18:31:34.353224Z",
     "iopub.status.idle": "2022-12-16T18:31:34.361176Z",
     "shell.execute_reply": "2022-12-16T18:31:34.360862Z"
    },
    "papermill": {
     "duration": 0.011288,
     "end_time": "2022-12-16T18:31:34.362160",
     "exception": false,
     "start_time": "2022-12-16T18:31:34.350872",
     "status": "completed"
    },
    "tags": []
   },
   "outputs": [
    {
     "data": {
      "text/html": [
       "<div>\n",
       "<style scoped>\n",
       "    .dataframe tbody tr th:only-of-type {\n",
       "        vertical-align: middle;\n",
       "    }\n",
       "\n",
       "    .dataframe tbody tr th {\n",
       "        vertical-align: top;\n",
       "    }\n",
       "\n",
       "    .dataframe thead th {\n",
       "        text-align: right;\n",
       "    }\n",
       "</style>\n",
       "<table border=\"1\" class=\"dataframe\">\n",
       "  <thead>\n",
       "    <tr style=\"text-align: right;\">\n",
       "      <th></th>\n",
       "      <th>pclass</th>\n",
       "      <th>age</th>\n",
       "      <th>fare</th>\n",
       "      <th>cabin_category</th>\n",
       "      <th>sex_category</th>\n",
       "      <th>embarked_category</th>\n",
       "      <th>family</th>\n",
       "    </tr>\n",
       "    <tr>\n",
       "      <th>passengerid</th>\n",
       "      <th></th>\n",
       "      <th></th>\n",
       "      <th></th>\n",
       "      <th></th>\n",
       "      <th></th>\n",
       "      <th></th>\n",
       "      <th></th>\n",
       "    </tr>\n",
       "  </thead>\n",
       "  <tbody>\n",
       "    <tr>\n",
       "      <th>100000</th>\n",
       "      <td>3</td>\n",
       "      <td>19.0</td>\n",
       "      <td>63.01</td>\n",
       "      <td>8</td>\n",
       "      <td>1</td>\n",
       "      <td>2</td>\n",
       "      <td>0</td>\n",
       "    </tr>\n",
       "    <tr>\n",
       "      <th>100001</th>\n",
       "      <td>3</td>\n",
       "      <td>53.0</td>\n",
       "      <td>5.81</td>\n",
       "      <td>8</td>\n",
       "      <td>0</td>\n",
       "      <td>2</td>\n",
       "      <td>0</td>\n",
       "    </tr>\n",
       "    <tr>\n",
       "      <th>100002</th>\n",
       "      <td>1</td>\n",
       "      <td>19.0</td>\n",
       "      <td>38.91</td>\n",
       "      <td>1</td>\n",
       "      <td>0</td>\n",
       "      <td>0</td>\n",
       "      <td>0</td>\n",
       "    </tr>\n",
       "    <tr>\n",
       "      <th>100003</th>\n",
       "      <td>2</td>\n",
       "      <td>25.0</td>\n",
       "      <td>12.93</td>\n",
       "      <td>8</td>\n",
       "      <td>1</td>\n",
       "      <td>2</td>\n",
       "      <td>0</td>\n",
       "    </tr>\n",
       "    <tr>\n",
       "      <th>100004</th>\n",
       "      <td>1</td>\n",
       "      <td>17.0</td>\n",
       "      <td>26.89</td>\n",
       "      <td>1</td>\n",
       "      <td>0</td>\n",
       "      <td>0</td>\n",
       "      <td>2</td>\n",
       "    </tr>\n",
       "    <tr>\n",
       "      <th>...</th>\n",
       "      <td>...</td>\n",
       "      <td>...</td>\n",
       "      <td>...</td>\n",
       "      <td>...</td>\n",
       "      <td>...</td>\n",
       "      <td>...</td>\n",
       "      <td>...</td>\n",
       "    </tr>\n",
       "    <tr>\n",
       "      <th>199995</th>\n",
       "      <td>3</td>\n",
       "      <td>27.0</td>\n",
       "      <td>10.12</td>\n",
       "      <td>8</td>\n",
       "      <td>0</td>\n",
       "      <td>1</td>\n",
       "      <td>0</td>\n",
       "    </tr>\n",
       "    <tr>\n",
       "      <th>199996</th>\n",
       "      <td>1</td>\n",
       "      <td>59.0</td>\n",
       "      <td>68.31</td>\n",
       "      <td>8</td>\n",
       "      <td>1</td>\n",
       "      <td>2</td>\n",
       "      <td>1</td>\n",
       "    </tr>\n",
       "    <tr>\n",
       "      <th>199997</th>\n",
       "      <td>3</td>\n",
       "      <td>47.0</td>\n",
       "      <td>10.87</td>\n",
       "      <td>8</td>\n",
       "      <td>1</td>\n",
       "      <td>2</td>\n",
       "      <td>0</td>\n",
       "    </tr>\n",
       "    <tr>\n",
       "      <th>199998</th>\n",
       "      <td>1</td>\n",
       "      <td>49.0</td>\n",
       "      <td>29.68</td>\n",
       "      <td>1</td>\n",
       "      <td>0</td>\n",
       "      <td>0</td>\n",
       "      <td>3</td>\n",
       "    </tr>\n",
       "    <tr>\n",
       "      <th>199999</th>\n",
       "      <td>1</td>\n",
       "      <td>41.0</td>\n",
       "      <td>195.41</td>\n",
       "      <td>4</td>\n",
       "      <td>0</td>\n",
       "      <td>0</td>\n",
       "      <td>2</td>\n",
       "    </tr>\n",
       "  </tbody>\n",
       "</table>\n",
       "<p>100000 rows × 7 columns</p>\n",
       "</div>"
      ],
      "text/plain": [
       "             pclass   age    fare  cabin_category  sex_category  \\\n",
       "passengerid                                                       \n",
       "100000            3  19.0   63.01               8             1   \n",
       "100001            3  53.0    5.81               8             0   \n",
       "100002            1  19.0   38.91               1             0   \n",
       "100003            2  25.0   12.93               8             1   \n",
       "100004            1  17.0   26.89               1             0   \n",
       "...             ...   ...     ...             ...           ...   \n",
       "199995            3  27.0   10.12               8             0   \n",
       "199996            1  59.0   68.31               8             1   \n",
       "199997            3  47.0   10.87               8             1   \n",
       "199998            1  49.0   29.68               1             0   \n",
       "199999            1  41.0  195.41               4             0   \n",
       "\n",
       "             embarked_category  family  \n",
       "passengerid                             \n",
       "100000                       2       0  \n",
       "100001                       2       0  \n",
       "100002                       0       0  \n",
       "100003                       2       0  \n",
       "100004                       0       2  \n",
       "...                        ...     ...  \n",
       "199995                       1       0  \n",
       "199996                       2       1  \n",
       "199997                       2       0  \n",
       "199998                       0       3  \n",
       "199999                       0       2  \n",
       "\n",
       "[100000 rows x 7 columns]"
      ]
     },
     "execution_count": 14,
     "metadata": {},
     "output_type": "execute_result"
    }
   ],
   "source": [
    "outputdf"
   ]
  },
  {
   "cell_type": "code",
   "execution_count": 15,
   "id": "f90b9f03",
   "metadata": {
    "execution": {
     "iopub.execute_input": "2022-12-16T18:31:34.366510Z",
     "iopub.status.busy": "2022-12-16T18:31:34.366379Z",
     "iopub.status.idle": "2022-12-16T18:31:34.370931Z",
     "shell.execute_reply": "2022-12-16T18:31:34.370635Z"
    },
    "papermill": {
     "duration": 0.007927,
     "end_time": "2022-12-16T18:31:34.372015",
     "exception": false,
     "start_time": "2022-12-16T18:31:34.364088",
     "status": "completed"
    },
    "tags": []
   },
   "outputs": [],
   "source": [
    "outputdf.to_pickle(f\"intermediate_data/featurestore_{datatype}.pkl\")"
   ]
  }
 ],
 "metadata": {
  "kernelspec": {
   "display_name": "ml1-arm64",
   "language": "python",
   "name": "ml1-arm64"
  },
  "language_info": {
   "codemirror_mode": {
    "name": "ipython",
    "version": 3
   },
   "file_extension": ".py",
   "mimetype": "text/x-python",
   "name": "python",
   "nbconvert_exporter": "python",
   "pygments_lexer": "ipython3",
   "version": "3.9.13"
  },
  "papermill": {
   "default_parameters": {},
   "duration": 2.192574,
   "end_time": "2022-12-16T18:31:34.704616",
   "environment_variables": {},
   "exception": null,
   "input_path": "transform.ipynb",
   "output_path": "output_notebooks/transform_test.ipynb",
   "parameters": {
    "data": "data/test.csv",
    "datatype": "test"
   },
   "start_time": "2022-12-16T18:31:32.512042",
   "version": "2.4.0"
  },
  "vscode": {
   "interpreter": {
    "hash": "3ad933181bd8a04b432d3370b9dc3b0662ad032c4dfaa4e4f1596c548f763858"
   }
  }
 },
 "nbformat": 4,
 "nbformat_minor": 5
}