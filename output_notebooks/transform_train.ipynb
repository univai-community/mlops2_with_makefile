{
 "cells": [
  {
   "cell_type": "markdown",
   "id": "3eda1bbd",
   "metadata": {
    "papermill": {
     "duration": 0.010209,
     "end_time": "2022-12-16T18:31:30.847386",
     "exception": false,
     "start_time": "2022-12-16T18:31:30.837177",
     "status": "completed"
    },
    "tags": []
   },
   "source": [
    "# A Simple Model"
   ]
  },
  {
   "cell_type": "code",
   "execution_count": 1,
   "id": "15ffd18f",
   "metadata": {
    "execution": {
     "iopub.execute_input": "2022-12-16T18:31:30.861650Z",
     "iopub.status.busy": "2022-12-16T18:31:30.861388Z",
     "iopub.status.idle": "2022-12-16T18:31:31.033591Z",
     "shell.execute_reply": "2022-12-16T18:31:31.033238Z"
    },
    "papermill": {
     "duration": 0.1804,
     "end_time": "2022-12-16T18:31:31.034974",
     "exception": false,
     "start_time": "2022-12-16T18:31:30.854574",
     "status": "completed"
    },
    "tags": []
   },
   "outputs": [],
   "source": [
    "import pandas as pd\n",
    "from joblib import dump, load\n",
    "from hamilton import driver, base"
   ]
  },
  {
   "cell_type": "code",
   "execution_count": 2,
   "id": "56bffdf0",
   "metadata": {
    "execution": {
     "iopub.execute_input": "2022-12-16T18:31:31.038446Z",
     "iopub.status.busy": "2022-12-16T18:31:31.038300Z",
     "iopub.status.idle": "2022-12-16T18:31:31.228155Z",
     "shell.execute_reply": "2022-12-16T18:31:31.227846Z"
    },
    "papermill": {
     "duration": 0.192752,
     "end_time": "2022-12-16T18:31:31.229244",
     "exception": false,
     "start_time": "2022-12-16T18:31:31.036492",
     "status": "completed"
    },
    "tags": []
   },
   "outputs": [],
   "source": [
    "import features_pipeline\n"
   ]
  },
  {
   "cell_type": "code",
   "execution_count": 3,
   "id": "85cd4580",
   "metadata": {
    "execution": {
     "iopub.execute_input": "2022-12-16T18:31:31.232671Z",
     "iopub.status.busy": "2022-12-16T18:31:31.232562Z",
     "iopub.status.idle": "2022-12-16T18:31:31.234282Z",
     "shell.execute_reply": "2022-12-16T18:31:31.234025Z"
    },
    "papermill": {
     "duration": 0.004346,
     "end_time": "2022-12-16T18:31:31.235207",
     "exception": false,
     "start_time": "2022-12-16T18:31:31.230861",
     "status": "completed"
    },
    "tags": []
   },
   "outputs": [],
   "source": [
    "index_col = 'passengerid'\n",
    "target_col = \"survived\"\n",
    "cat_cols = [\"sex\", \"cabin\", \"embarked\"]\n",
    "config = {\n",
    "    'index_column': index_col,\n",
    "    'target_column': target_col,\n",
    "    'categorical_columns': cat_cols\n",
    "}"
   ]
  },
  {
   "cell_type": "markdown",
   "id": "d0afb5bd",
   "metadata": {
    "papermill": {
     "duration": 0.001204,
     "end_time": "2022-12-16T18:31:31.237652",
     "exception": false,
     "start_time": "2022-12-16T18:31:31.236448",
     "status": "completed"
    },
    "tags": []
   },
   "source": [
    "## Data Transformation Pipeline 2: Use encoders to transform data."
   ]
  },
  {
   "cell_type": "code",
   "execution_count": 4,
   "id": "fa4f1b78",
   "metadata": {
    "execution": {
     "iopub.execute_input": "2022-12-16T18:31:31.240456Z",
     "iopub.status.busy": "2022-12-16T18:31:31.240363Z",
     "iopub.status.idle": "2022-12-16T18:31:31.241956Z",
     "shell.execute_reply": "2022-12-16T18:31:31.241712Z"
    },
    "papermill": {
     "duration": 0.004008,
     "end_time": "2022-12-16T18:31:31.242842",
     "exception": false,
     "start_time": "2022-12-16T18:31:31.238834",
     "status": "completed"
    },
    "tags": [
     "parameters"
    ]
   },
   "outputs": [],
   "source": [
    "# parameters\n",
    "encoder_file: str = \"intermediate_data/encoder.joblib\"\n",
    "data: str = \"data/train.csv\"\n",
    "datatype: str = \"train\""
   ]
  },
  {
   "cell_type": "code",
   "execution_count": 5,
   "id": "85eb5052",
   "metadata": {
    "execution": {
     "iopub.execute_input": "2022-12-16T18:31:31.245824Z",
     "iopub.status.busy": "2022-12-16T18:31:31.245725Z",
     "iopub.status.idle": "2022-12-16T18:31:31.247626Z",
     "shell.execute_reply": "2022-12-16T18:31:31.247362Z"
    },
    "papermill": {
     "duration": 0.00442,
     "end_time": "2022-12-16T18:31:31.248516",
     "exception": false,
     "start_time": "2022-12-16T18:31:31.244096",
     "status": "completed"
    },
    "tags": []
   },
   "outputs": [],
   "source": [
    "out = load(encoder_file)"
   ]
  },
  {
   "cell_type": "code",
   "execution_count": 6,
   "id": "9c2d0088",
   "metadata": {
    "execution": {
     "iopub.execute_input": "2022-12-16T18:31:31.251584Z",
     "iopub.status.busy": "2022-12-16T18:31:31.251487Z",
     "iopub.status.idle": "2022-12-16T18:31:31.253254Z",
     "shell.execute_reply": "2022-12-16T18:31:31.253002Z"
    },
    "papermill": {
     "duration": 0.004282,
     "end_time": "2022-12-16T18:31:31.254151",
     "exception": false,
     "start_time": "2022-12-16T18:31:31.249869",
     "status": "completed"
    },
    "tags": []
   },
   "outputs": [],
   "source": [
    "inputencoders = {}\n",
    "for k in out['encoders']:\n",
    "    knew = \"\".join(k.split('_'))\n",
    "    inputencoders[knew] = out['encoders'][k]"
   ]
  },
  {
   "cell_type": "code",
   "execution_count": 7,
   "id": "58def931",
   "metadata": {
    "execution": {
     "iopub.execute_input": "2022-12-16T18:31:31.257125Z",
     "iopub.status.busy": "2022-12-16T18:31:31.257024Z",
     "iopub.status.idle": "2022-12-16T18:31:31.261855Z",
     "shell.execute_reply": "2022-12-16T18:31:31.261592Z"
    },
    "papermill": {
     "duration": 0.007328,
     "end_time": "2022-12-16T18:31:31.262720",
     "exception": false,
     "start_time": "2022-12-16T18:31:31.255392",
     "status": "completed"
    },
    "tags": []
   },
   "outputs": [
    {
     "data": {
      "text/plain": [
       "{'cabinencoder': LabelEncoder(),\n",
       " 'sexencoder': LabelEncoder(),\n",
       " 'embarkedencoder': LabelEncoder()}"
      ]
     },
     "execution_count": 7,
     "metadata": {},
     "output_type": "execute_result"
    }
   ],
   "source": [
    "inputencoders"
   ]
  },
  {
   "cell_type": "code",
   "execution_count": 8,
   "id": "0fb75b8b",
   "metadata": {
    "execution": {
     "iopub.execute_input": "2022-12-16T18:31:31.265950Z",
     "iopub.status.busy": "2022-12-16T18:31:31.265854Z",
     "iopub.status.idle": "2022-12-16T18:31:31.341172Z",
     "shell.execute_reply": "2022-12-16T18:31:31.340866Z"
    },
    "papermill": {
     "duration": 0.078055,
     "end_time": "2022-12-16T18:31:31.342238",
     "exception": false,
     "start_time": "2022-12-16T18:31:31.264183",
     "status": "completed"
    },
    "tags": []
   },
   "outputs": [],
   "source": [
    "df = pd.read_csv(data)"
   ]
  },
  {
   "cell_type": "markdown",
   "id": "a0e99203",
   "metadata": {
    "papermill": {
     "duration": 0.001349,
     "end_time": "2022-12-16T18:31:31.345195",
     "exception": false,
     "start_time": "2022-12-16T18:31:31.343846",
     "status": "completed"
    },
    "tags": []
   },
   "source": [
    "### Transform the training set"
   ]
  },
  {
   "cell_type": "code",
   "execution_count": 9,
   "id": "f5b89a9f",
   "metadata": {
    "execution": {
     "iopub.execute_input": "2022-12-16T18:31:31.348367Z",
     "iopub.status.busy": "2022-12-16T18:31:31.348255Z",
     "iopub.status.idle": "2022-12-16T18:31:31.713692Z",
     "shell.execute_reply": "2022-12-16T18:31:31.713240Z"
    },
    "papermill": {
     "duration": 0.36834,
     "end_time": "2022-12-16T18:31:31.714845",
     "exception": false,
     "start_time": "2022-12-16T18:31:31.346505",
     "status": "completed"
    },
    "tags": []
   },
   "outputs": [],
   "source": [
    "transform_dr = driver.Driver(config, features_pipeline)\n",
    "ddf = dict(df = df, **inputencoders) \n",
    "#print(transform_train_dr.list_available_variables())\n",
    "transform_dr.visualize_execution(['final_imputed_features'],\n",
    "                                       f\"./artifacts/trans{datatype}.dot\", \n",
    "                                       {}, \n",
    "                                       inputs = ddf\n",
    ")"
   ]
  },
  {
   "cell_type": "code",
   "execution_count": 10,
   "id": "30c06637",
   "metadata": {
    "execution": {
     "iopub.execute_input": "2022-12-16T18:31:31.718756Z",
     "iopub.status.busy": "2022-12-16T18:31:31.718623Z",
     "iopub.status.idle": "2022-12-16T18:31:31.720488Z",
     "shell.execute_reply": "2022-12-16T18:31:31.720217Z"
    },
    "papermill": {
     "duration": 0.00478,
     "end_time": "2022-12-16T18:31:31.721365",
     "exception": false,
     "start_time": "2022-12-16T18:31:31.716585",
     "status": "completed"
    },
    "tags": []
   },
   "outputs": [],
   "source": [
    "from IPython.display import Image, Markdown"
   ]
  },
  {
   "cell_type": "code",
   "execution_count": 11,
   "id": "40715e12",
   "metadata": {
    "execution": {
     "iopub.execute_input": "2022-12-16T18:31:31.725037Z",
     "iopub.status.busy": "2022-12-16T18:31:31.724912Z",
     "iopub.status.idle": "2022-12-16T18:31:31.727129Z",
     "shell.execute_reply": "2022-12-16T18:31:31.726859Z"
    },
    "papermill": {
     "duration": 0.005049,
     "end_time": "2022-12-16T18:31:31.728091",
     "exception": false,
     "start_time": "2022-12-16T18:31:31.723042",
     "status": "completed"
    },
    "tags": []
   },
   "outputs": [
    {
     "data": {
      "text/markdown": [
       "![](./transtrain.dot.pdf)"
      ],
      "text/plain": [
       "<IPython.core.display.Markdown object>"
      ]
     },
     "execution_count": 11,
     "metadata": {},
     "output_type": "execute_result"
    }
   ],
   "source": [
    "Markdown(f\"![](./trans{datatype}.dot.pdf)\")"
   ]
  },
  {
   "cell_type": "code",
   "execution_count": 12,
   "id": "18120fe3",
   "metadata": {
    "execution": {
     "iopub.execute_input": "2022-12-16T18:31:31.731684Z",
     "iopub.status.busy": "2022-12-16T18:31:31.731552Z",
     "iopub.status.idle": "2022-12-16T18:31:31.810487Z",
     "shell.execute_reply": "2022-12-16T18:31:31.810152Z"
    },
    "papermill": {
     "duration": 0.081765,
     "end_time": "2022-12-16T18:31:31.811393",
     "exception": false,
     "start_time": "2022-12-16T18:31:31.729628",
     "status": "completed"
    },
    "tags": []
   },
   "outputs": [
    {
     "name": "stdout",
     "output_type": "stream",
     "text": [
      "<class 'pandas.core.frame.DataFrame'>\n"
     ]
    }
   ],
   "source": [
    "outputdf = transform_dr.execute(['final_imputed_features'], inputs = ddf)"
   ]
  },
  {
   "cell_type": "code",
   "execution_count": 13,
   "id": "663c2487",
   "metadata": {
    "execution": {
     "iopub.execute_input": "2022-12-16T18:31:31.815946Z",
     "iopub.status.busy": "2022-12-16T18:31:31.815815Z",
     "iopub.status.idle": "2022-12-16T18:31:31.824338Z",
     "shell.execute_reply": "2022-12-16T18:31:31.824016Z"
    },
    "papermill": {
     "duration": 0.011549,
     "end_time": "2022-12-16T18:31:31.825327",
     "exception": false,
     "start_time": "2022-12-16T18:31:31.813778",
     "status": "completed"
    },
    "tags": []
   },
   "outputs": [
    {
     "data": {
      "text/html": [
       "<div>\n",
       "<style scoped>\n",
       "    .dataframe tbody tr th:only-of-type {\n",
       "        vertical-align: middle;\n",
       "    }\n",
       "\n",
       "    .dataframe tbody tr th {\n",
       "        vertical-align: top;\n",
       "    }\n",
       "\n",
       "    .dataframe thead th {\n",
       "        text-align: right;\n",
       "    }\n",
       "</style>\n",
       "<table border=\"1\" class=\"dataframe\">\n",
       "  <thead>\n",
       "    <tr style=\"text-align: right;\">\n",
       "      <th></th>\n",
       "      <th>pclass</th>\n",
       "      <th>age</th>\n",
       "      <th>fare</th>\n",
       "      <th>cabin_category</th>\n",
       "      <th>sex_category</th>\n",
       "      <th>embarked_category</th>\n",
       "      <th>family</th>\n",
       "    </tr>\n",
       "    <tr>\n",
       "      <th>passengerid</th>\n",
       "      <th></th>\n",
       "      <th></th>\n",
       "      <th></th>\n",
       "      <th></th>\n",
       "      <th></th>\n",
       "      <th></th>\n",
       "      <th></th>\n",
       "    </tr>\n",
       "  </thead>\n",
       "  <tbody>\n",
       "    <tr>\n",
       "      <th>0</th>\n",
       "      <td>1</td>\n",
       "      <td>0.00</td>\n",
       "      <td>27.14</td>\n",
       "      <td>2</td>\n",
       "      <td>1</td>\n",
       "      <td>2</td>\n",
       "      <td>2</td>\n",
       "    </tr>\n",
       "    <tr>\n",
       "      <th>1</th>\n",
       "      <td>3</td>\n",
       "      <td>0.00</td>\n",
       "      <td>13.35</td>\n",
       "      <td>8</td>\n",
       "      <td>1</td>\n",
       "      <td>2</td>\n",
       "      <td>0</td>\n",
       "    </tr>\n",
       "    <tr>\n",
       "      <th>2</th>\n",
       "      <td>3</td>\n",
       "      <td>0.33</td>\n",
       "      <td>71.29</td>\n",
       "      <td>8</td>\n",
       "      <td>1</td>\n",
       "      <td>2</td>\n",
       "      <td>3</td>\n",
       "    </tr>\n",
       "    <tr>\n",
       "      <th>3</th>\n",
       "      <td>3</td>\n",
       "      <td>19.00</td>\n",
       "      <td>13.04</td>\n",
       "      <td>8</td>\n",
       "      <td>1</td>\n",
       "      <td>2</td>\n",
       "      <td>0</td>\n",
       "    </tr>\n",
       "    <tr>\n",
       "      <th>4</th>\n",
       "      <td>3</td>\n",
       "      <td>25.00</td>\n",
       "      <td>7.76</td>\n",
       "      <td>8</td>\n",
       "      <td>1</td>\n",
       "      <td>2</td>\n",
       "      <td>0</td>\n",
       "    </tr>\n",
       "    <tr>\n",
       "      <th>...</th>\n",
       "      <td>...</td>\n",
       "      <td>...</td>\n",
       "      <td>...</td>\n",
       "      <td>...</td>\n",
       "      <td>...</td>\n",
       "      <td>...</td>\n",
       "      <td>...</td>\n",
       "    </tr>\n",
       "    <tr>\n",
       "      <th>99995</th>\n",
       "      <td>2</td>\n",
       "      <td>62.00</td>\n",
       "      <td>14.86</td>\n",
       "      <td>3</td>\n",
       "      <td>0</td>\n",
       "      <td>0</td>\n",
       "      <td>0</td>\n",
       "    </tr>\n",
       "    <tr>\n",
       "      <th>99996</th>\n",
       "      <td>2</td>\n",
       "      <td>66.00</td>\n",
       "      <td>11.15</td>\n",
       "      <td>8</td>\n",
       "      <td>1</td>\n",
       "      <td>2</td>\n",
       "      <td>0</td>\n",
       "    </tr>\n",
       "    <tr>\n",
       "      <th>99997</th>\n",
       "      <td>3</td>\n",
       "      <td>37.00</td>\n",
       "      <td>9.95</td>\n",
       "      <td>8</td>\n",
       "      <td>1</td>\n",
       "      <td>2</td>\n",
       "      <td>0</td>\n",
       "    </tr>\n",
       "    <tr>\n",
       "      <th>99998</th>\n",
       "      <td>3</td>\n",
       "      <td>51.00</td>\n",
       "      <td>30.92</td>\n",
       "      <td>8</td>\n",
       "      <td>1</td>\n",
       "      <td>2</td>\n",
       "      <td>1</td>\n",
       "    </tr>\n",
       "    <tr>\n",
       "      <th>99999</th>\n",
       "      <td>3</td>\n",
       "      <td>55.00</td>\n",
       "      <td>13.96</td>\n",
       "      <td>8</td>\n",
       "      <td>1</td>\n",
       "      <td>2</td>\n",
       "      <td>0</td>\n",
       "    </tr>\n",
       "  </tbody>\n",
       "</table>\n",
       "<p>100000 rows × 7 columns</p>\n",
       "</div>"
      ],
      "text/plain": [
       "             pclass    age   fare  cabin_category  sex_category  \\\n",
       "passengerid                                                       \n",
       "0                 1   0.00  27.14               2             1   \n",
       "1                 3   0.00  13.35               8             1   \n",
       "2                 3   0.33  71.29               8             1   \n",
       "3                 3  19.00  13.04               8             1   \n",
       "4                 3  25.00   7.76               8             1   \n",
       "...             ...    ...    ...             ...           ...   \n",
       "99995             2  62.00  14.86               3             0   \n",
       "99996             2  66.00  11.15               8             1   \n",
       "99997             3  37.00   9.95               8             1   \n",
       "99998             3  51.00  30.92               8             1   \n",
       "99999             3  55.00  13.96               8             1   \n",
       "\n",
       "             embarked_category  family  \n",
       "passengerid                             \n",
       "0                            2       2  \n",
       "1                            2       0  \n",
       "2                            2       3  \n",
       "3                            2       0  \n",
       "4                            2       0  \n",
       "...                        ...     ...  \n",
       "99995                        0       0  \n",
       "99996                        2       0  \n",
       "99997                        2       0  \n",
       "99998                        2       1  \n",
       "99999                        2       0  \n",
       "\n",
       "[100000 rows x 7 columns]"
      ]
     },
     "execution_count": 13,
     "metadata": {},
     "output_type": "execute_result"
    }
   ],
   "source": [
    "outputdf"
   ]
  },
  {
   "cell_type": "code",
   "execution_count": 14,
   "id": "f90b9f03",
   "metadata": {
    "execution": {
     "iopub.execute_input": "2022-12-16T18:31:31.829895Z",
     "iopub.status.busy": "2022-12-16T18:31:31.829741Z",
     "iopub.status.idle": "2022-12-16T18:31:31.836134Z",
     "shell.execute_reply": "2022-12-16T18:31:31.835795Z"
    },
    "papermill": {
     "duration": 0.010079,
     "end_time": "2022-12-16T18:31:31.837326",
     "exception": false,
     "start_time": "2022-12-16T18:31:31.827247",
     "status": "completed"
    },
    "tags": []
   },
   "outputs": [],
   "source": [
    "outputdf.to_pickle(f\"intermediate_data/featurestore_{datatype}.pkl\")"
   ]
  }
 ],
 "metadata": {
  "kernelspec": {
   "display_name": "ml1-arm64",
   "language": "python",
   "name": "ml1-arm64"
  },
  "language_info": {
   "codemirror_mode": {
    "name": "ipython",
    "version": 3
   },
   "file_extension": ".py",
   "mimetype": "text/x-python",
   "name": "python",
   "nbconvert_exporter": "python",
   "pygments_lexer": "ipython3",
   "version": "3.9.13"
  },
  "papermill": {
   "default_parameters": {},
   "duration": 2.166562,
   "end_time": "2022-12-16T18:31:32.164288",
   "environment_variables": {},
   "exception": null,
   "input_path": "transform.ipynb",
   "output_path": "output_notebooks/transform_train.ipynb",
   "parameters": {},
   "start_time": "2022-12-16T18:31:29.997726",
   "version": "2.4.0"
  },
  "vscode": {
   "interpreter": {
    "hash": "3ad933181bd8a04b432d3370b9dc3b0662ad032c4dfaa4e4f1596c548f763858"
   }
  }
 },
 "nbformat": 4,
 "nbformat_minor": 5
}