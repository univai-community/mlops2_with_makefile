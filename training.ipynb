{
 "cells": [
  {
   "cell_type": "markdown",
   "id": "71d9d926",
   "metadata": {},
   "source": [
    "# A Simple Model"
   ]
  },
  {
   "cell_type": "code",
   "execution_count": 1,
   "id": "f629ff15",
   "metadata": {},
   "outputs": [],
   "source": [
    "import pandas as pd\n",
    "from joblib import dump, load\n",
    "from hamilton import driver, base"
   ]
  },
  {
   "cell_type": "code",
   "execution_count": 2,
   "id": "2406da4e",
   "metadata": {},
   "outputs": [],
   "source": [
    "index_col = 'passengerid'\n",
    "target_col = \"survived\"\n",
    "cat_cols = [\"sex\", \"cabin\", \"embarked\"]\n",
    "config = {\n",
    "    'index_column': index_col,\n",
    "    'target_column': target_col,\n",
    "    'categorical_columns': cat_cols\n",
    "}"
   ]
  },
  {
   "cell_type": "code",
   "execution_count": 9,
   "id": "3bf915cc",
   "metadata": {
    "tags": [
     "parameters"
    ]
   },
   "outputs": [],
   "source": [
    "# parameters\n",
    "features_file: str = \"intermediate_data/featurestore_train.pkl\"\n",
    "training_data: str = \"data/train.csv\""
   ]
  },
  {
   "cell_type": "code",
   "execution_count": 5,
   "id": "6fd6db1d",
   "metadata": {},
   "outputs": [],
   "source": [
    "traindf = pd.read_pickle(features_file)"
   ]
  },
  {
   "cell_type": "code",
   "execution_count": 10,
   "id": "027b3d7b",
   "metadata": {},
   "outputs": [],
   "source": [
    "df_train = pd.read_csv(training_data)"
   ]
  },
  {
   "cell_type": "markdown",
   "id": "f2748128",
   "metadata": {},
   "source": [
    "## Model Training Pipeline"
   ]
  },
  {
   "cell_type": "code",
   "execution_count": 11,
   "id": "f9b3ce0b",
   "metadata": {},
   "outputs": [],
   "source": [
    "import model_pipeline, features_pipeline"
   ]
  },
  {
   "cell_type": "code",
   "execution_count": 12,
   "id": "eb4f7a55",
   "metadata": {},
   "outputs": [],
   "source": [
    "config_model = {\n",
    "    'index_column': index_col,\n",
    "    'target_column': target_col,\n",
    "    'random_state': 42,\n",
    "    'max_depth': None,\n",
    "    'validation_size_fraction': 0.33,\n",
    "    't': 0.5\n",
    "}"
   ]
  },
  {
   "cell_type": "code",
   "execution_count": 13,
   "id": "6fe7ef03",
   "metadata": {},
   "outputs": [],
   "source": [
    "training_adapter = base.SimplePythonGraphAdapter(base.DictResult())\n",
    "training_dr = driver.Driver(config_model, \n",
    "                            features_pipeline, model_pipeline,\n",
    "                           adapter=training_adapter)\n",
    "dtraining = dict(\n",
    "    df_train = df_train,\n",
    "    final_feature_matrix = traindf\n",
    ")\n",
    "training_dr.visualize_execution(['fit_clf', 'train_predictions', 'valid_predictions'],\n",
    "                                       './artifacts/training.dot', \n",
    "                                       {}, \n",
    "                                       inputs = dtraining\n",
    ")"
   ]
  },
  {
   "cell_type": "markdown",
   "id": "33a3fc35",
   "metadata": {},
   "source": [
    "![](./training.dot.pdf)"
   ]
  },
  {
   "cell_type": "code",
   "execution_count": 14,
   "id": "f57cb976",
   "metadata": {},
   "outputs": [],
   "source": [
    "rfdict = training_dr.execute(['fit_clf', 'train_predictions', 'valid_predictions'], inputs = dtraining)"
   ]
  },
  {
   "cell_type": "code",
   "execution_count": 15,
   "id": "59a682ee",
   "metadata": {},
   "outputs": [
    {
     "data": {
      "text/plain": [
       "{'fit_clf': RandomForestClassifier(random_state=42),\n",
       " 'train_predictions': (array([0.795, 0.1  , 0.95 , ..., 0.83 , 0.   , 0.04 ]),\n",
       "  array([1, 0, 1, ..., 1, 0, 0])),\n",
       " 'valid_predictions': (array([0.93, 0.84, 0.16, ..., 0.99, 0.4 , 0.16]),\n",
       "  array([1, 1, 0, ..., 1, 0, 0]))}"
      ]
     },
     "execution_count": 15,
     "metadata": {},
     "output_type": "execute_result"
    }
   ],
   "source": [
    "rfdict"
   ]
  },
  {
   "cell_type": "code",
   "execution_count": 17,
   "id": "7044a75c",
   "metadata": {},
   "outputs": [
    {
     "data": {
      "text/plain": [
       "['models/rf.joblib']"
      ]
     },
     "execution_count": 17,
     "metadata": {},
     "output_type": "execute_result"
    }
   ],
   "source": [
    "dump(rfdict['fit_clf'], \"models/rf.joblib\")"
   ]
  }
 ],
 "metadata": {
  "kernelspec": {
   "display_name": "ml1-arm64",
   "language": "python",
   "name": "ml1-arm64"
  },
  "language_info": {
   "codemirror_mode": {
    "name": "ipython",
    "version": 3
   },
   "file_extension": ".py",
   "mimetype": "text/x-python",
   "name": "python",
   "nbconvert_exporter": "python",
   "pygments_lexer": "ipython3",
   "version": "3.9.13"
  },
  "vscode": {
   "interpreter": {
    "hash": "3ad933181bd8a04b432d3370b9dc3b0662ad032c4dfaa4e4f1596c548f763858"
   }
  }
 },
 "nbformat": 4,
 "nbformat_minor": 5
}
